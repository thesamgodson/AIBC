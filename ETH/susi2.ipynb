{
  "cells": [
    {
      "cell_type": "code",
      "source": [
        "!pip install susi"
      ],
      "metadata": {
        "colab": {
          "base_uri": "https://localhost:8080/"
        },
        "id": "9KZ_4W49imjH",
        "outputId": "9028d555-8c42-482b-a4e6-b9c0181a770e"
      },
      "execution_count": null,
      "outputs": [
        {
          "output_type": "stream",
          "name": "stdout",
          "text": [
            "Collecting susi\n",
            "  Downloading susi-1.4.1.zip (44 kB)\n",
            "\u001b[2K     \u001b[90m━━━━━━━━━━━━━━━━━━━━━━━━━━━━━━━━━━━━━━━━\u001b[0m \u001b[32m44.7/44.7 kB\u001b[0m \u001b[31m1.2 MB/s\u001b[0m eta \u001b[36m0:00:00\u001b[0m\n",
            "\u001b[?25h  Installing build dependencies ... \u001b[?25l\u001b[?25hdone\n",
            "  Getting requirements to build wheel ... \u001b[?25l\u001b[?25hdone\n",
            "  Preparing metadata (pyproject.toml) ... \u001b[?25l\u001b[?25hdone\n",
            "Requirement already satisfied: joblib in /usr/local/lib/python3.10/dist-packages (from susi) (1.4.2)\n",
            "Requirement already satisfied: numpy in /usr/local/lib/python3.10/dist-packages (from susi) (1.26.4)\n",
            "Requirement already satisfied: scikit-learn in /usr/local/lib/python3.10/dist-packages (from susi) (1.3.2)\n",
            "Requirement already satisfied: scipy in /usr/local/lib/python3.10/dist-packages (from susi) (1.13.1)\n",
            "Requirement already satisfied: tqdm in /usr/local/lib/python3.10/dist-packages (from susi) (4.66.5)\n",
            "Requirement already satisfied: matplotlib in /usr/local/lib/python3.10/dist-packages (from susi) (3.7.1)\n",
            "Requirement already satisfied: contourpy>=1.0.1 in /usr/local/lib/python3.10/dist-packages (from matplotlib->susi) (1.2.1)\n",
            "Requirement already satisfied: cycler>=0.10 in /usr/local/lib/python3.10/dist-packages (from matplotlib->susi) (0.12.1)\n",
            "Requirement already satisfied: fonttools>=4.22.0 in /usr/local/lib/python3.10/dist-packages (from matplotlib->susi) (4.53.1)\n",
            "Requirement already satisfied: kiwisolver>=1.0.1 in /usr/local/lib/python3.10/dist-packages (from matplotlib->susi) (1.4.5)\n",
            "Requirement already satisfied: packaging>=20.0 in /usr/local/lib/python3.10/dist-packages (from matplotlib->susi) (24.1)\n",
            "Requirement already satisfied: pillow>=6.2.0 in /usr/local/lib/python3.10/dist-packages (from matplotlib->susi) (9.4.0)\n",
            "Requirement already satisfied: pyparsing>=2.3.1 in /usr/local/lib/python3.10/dist-packages (from matplotlib->susi) (3.1.2)\n",
            "Requirement already satisfied: python-dateutil>=2.7 in /usr/local/lib/python3.10/dist-packages (from matplotlib->susi) (2.8.2)\n",
            "Requirement already satisfied: threadpoolctl>=2.0.0 in /usr/local/lib/python3.10/dist-packages (from scikit-learn->susi) (3.5.0)\n",
            "Requirement already satisfied: six>=1.5 in /usr/local/lib/python3.10/dist-packages (from python-dateutil>=2.7->matplotlib->susi) (1.16.0)\n",
            "Building wheels for collected packages: susi\n",
            "  Building wheel for susi (pyproject.toml) ... \u001b[?25l\u001b[?25hdone\n",
            "  Created wheel for susi: filename=susi-1.4.1-py3-none-any.whl size=26683 sha256=b33d95c814b30ab3b819f622c5e88674fed9765c003b635e80f8ba44795a35fe\n",
            "  Stored in directory: /root/.cache/pip/wheels/ab/c3/22/83cb62abe85f527480933daa7dd630b544b0a2b55af2e80afe\n",
            "Successfully built susi\n",
            "Installing collected packages: susi\n",
            "Successfully installed susi-1.4.1\n"
          ]
        }
      ]
    },
    {
      "cell_type": "code",
      "execution_count": null,
      "metadata": {
        "id": "iApbUAPQihhy"
      },
      "outputs": [],
      "source": [
        "import susi\n",
        "import pandas as pd\n",
        "import numpy as np\n",
        "from sklearn.preprocessing import MinMaxScaler\n",
        "from sklearn.model_selection import train_test_split\n",
        "from sklearn.model_selection import GridSearchCV\n",
        "import matplotlib.pyplot as plt\n",
        "from sklearn.metrics import mean_absolute_error,mean_squared_error,r2_score"
      ]
    },
    {
      "cell_type": "code",
      "execution_count": null,
      "metadata": {
        "id": "jgz359h7ihhz",
        "colab": {
          "base_uri": "https://localhost:8080/"
        },
        "outputId": "884ea8f8-0f55-45d2-b565-9fdbba9682f2"
      },
      "outputs": [
        {
          "output_type": "stream",
          "name": "stdout",
          "text": [
            "                   Close    ETH_Close\n",
            "Date                                 \n",
            "2017-11-09   7143.580078   320.884003\n",
            "2017-11-10   6618.140137   299.252991\n",
            "2017-11-11   6357.600098   314.681000\n",
            "2017-11-12   5950.069824   307.907990\n",
            "2017-11-13   6559.490234   316.716003\n",
            "...                  ...          ...\n",
            "2024-03-14  71396.593750  3883.140381\n",
            "2024-03-15  69403.773440  3735.220215\n",
            "2024-03-16  65315.117190  3522.860107\n",
            "2024-03-17  68390.625000  3642.413086\n",
            "2024-03-18  67675.695310  3517.985107\n",
            "\n",
            "[2322 rows x 2 columns]\n"
          ]
        }
      ],
      "source": [
        "df = pd.read_csv('BTC-ETH.csv')\n",
        "\n",
        "import datetime\n",
        "\n",
        "def str_to_datetime(s):\n",
        "    split = s.split('/')\n",
        "    month, day, year = int(split[0]), int(split[1]), int(split[2])\n",
        "    return datetime.datetime(year=year, month=month, day=day)\n",
        "\n",
        "df['Date'] = df['Date'].apply(str_to_datetime)\n",
        "df.index = df.pop('Date')\n",
        "print(df)"
      ]
    },
    {
      "cell_type": "code",
      "execution_count": null,
      "metadata": {
        "colab": {
          "base_uri": "https://localhost:8080/",
          "height": 419
        },
        "id": "ZI3hTiJcihhz",
        "outputId": "972f2567-12e6-465b-cf25-91e97049dbaf"
      },
      "outputs": [
        {
          "output_type": "execute_result",
          "data": {
            "text/plain": [
              "    Target Date  Target-3     ETH-3  Target-2     ETH-2  Target-1     ETH-1  \\\n",
              "0    2017-11-16  0.047572  0.049158  0.048664  0.053582  0.058396  0.052678   \n",
              "1    2017-11-24  0.069216  0.058398  0.071826  0.062681  0.068751  0.068924   \n",
              "2    2017-12-02  0.095235  0.072595  0.100174  0.076739  0.110797  0.080848   \n",
              "3    2017-12-10  0.209930  0.074052  0.190884  0.078625  0.170966  0.082321   \n",
              "4    2017-12-18  0.207170  0.126939  0.232805  0.129427  0.227699  0.134454   \n",
              "..          ...       ...       ...       ...       ...       ...       ...   \n",
              "285  2024-02-13  0.637603  0.511217  0.645086  0.512558  0.668914  0.544401   \n",
              "286  2024-02-21  0.699901  0.591121  0.694984  0.604780  0.702225  0.619571   \n",
              "287  2024-02-29  0.734260  0.654575  0.770954  0.668435  0.848544  0.698297   \n",
              "288  2024-03-08  0.867105  0.734099  0.900114  0.789994  0.911835  0.801653   \n",
              "289  2024-03-16  1.000000  0.829596  0.975848  0.803513  0.947317  0.772226   \n",
              "\n",
              "       Target  \n",
              "0    0.066359  \n",
              "1    0.071828  \n",
              "2    0.112215  \n",
              "3    0.174935  \n",
              "4    0.227318  \n",
              "..        ...  \n",
              "285  0.665825  \n",
              "286  0.695844  \n",
              "287  0.829840  \n",
              "288  0.931516  \n",
              "289  0.888780  \n",
              "\n",
              "[290 rows x 8 columns]"
            ],
            "text/html": [
              "\n",
              "  <div id=\"df-38b1e6e5-3781-4510-adf8-df1a212fb06d\" class=\"colab-df-container\">\n",
              "    <div>\n",
              "<style scoped>\n",
              "    .dataframe tbody tr th:only-of-type {\n",
              "        vertical-align: middle;\n",
              "    }\n",
              "\n",
              "    .dataframe tbody tr th {\n",
              "        vertical-align: top;\n",
              "    }\n",
              "\n",
              "    .dataframe thead th {\n",
              "        text-align: right;\n",
              "    }\n",
              "</style>\n",
              "<table border=\"1\" class=\"dataframe\">\n",
              "  <thead>\n",
              "    <tr style=\"text-align: right;\">\n",
              "      <th></th>\n",
              "      <th>Target Date</th>\n",
              "      <th>Target-3</th>\n",
              "      <th>ETH-3</th>\n",
              "      <th>Target-2</th>\n",
              "      <th>ETH-2</th>\n",
              "      <th>Target-1</th>\n",
              "      <th>ETH-1</th>\n",
              "      <th>Target</th>\n",
              "    </tr>\n",
              "  </thead>\n",
              "  <tbody>\n",
              "    <tr>\n",
              "      <th>0</th>\n",
              "      <td>2017-11-16</td>\n",
              "      <td>0.047572</td>\n",
              "      <td>0.049158</td>\n",
              "      <td>0.048664</td>\n",
              "      <td>0.053582</td>\n",
              "      <td>0.058396</td>\n",
              "      <td>0.052678</td>\n",
              "      <td>0.066359</td>\n",
              "    </tr>\n",
              "    <tr>\n",
              "      <th>1</th>\n",
              "      <td>2017-11-24</td>\n",
              "      <td>0.069216</td>\n",
              "      <td>0.058398</td>\n",
              "      <td>0.071826</td>\n",
              "      <td>0.062681</td>\n",
              "      <td>0.068751</td>\n",
              "      <td>0.068924</td>\n",
              "      <td>0.071828</td>\n",
              "    </tr>\n",
              "    <tr>\n",
              "      <th>2</th>\n",
              "      <td>2017-12-02</td>\n",
              "      <td>0.095235</td>\n",
              "      <td>0.072595</td>\n",
              "      <td>0.100174</td>\n",
              "      <td>0.076739</td>\n",
              "      <td>0.110797</td>\n",
              "      <td>0.080848</td>\n",
              "      <td>0.112215</td>\n",
              "    </tr>\n",
              "    <tr>\n",
              "      <th>3</th>\n",
              "      <td>2017-12-10</td>\n",
              "      <td>0.209930</td>\n",
              "      <td>0.074052</td>\n",
              "      <td>0.190884</td>\n",
              "      <td>0.078625</td>\n",
              "      <td>0.170966</td>\n",
              "      <td>0.082321</td>\n",
              "      <td>0.174935</td>\n",
              "    </tr>\n",
              "    <tr>\n",
              "      <th>4</th>\n",
              "      <td>2017-12-18</td>\n",
              "      <td>0.207170</td>\n",
              "      <td>0.126939</td>\n",
              "      <td>0.232805</td>\n",
              "      <td>0.129427</td>\n",
              "      <td>0.227699</td>\n",
              "      <td>0.134454</td>\n",
              "      <td>0.227318</td>\n",
              "    </tr>\n",
              "    <tr>\n",
              "      <th>...</th>\n",
              "      <td>...</td>\n",
              "      <td>...</td>\n",
              "      <td>...</td>\n",
              "      <td>...</td>\n",
              "      <td>...</td>\n",
              "      <td>...</td>\n",
              "      <td>...</td>\n",
              "      <td>...</td>\n",
              "    </tr>\n",
              "    <tr>\n",
              "      <th>285</th>\n",
              "      <td>2024-02-13</td>\n",
              "      <td>0.637603</td>\n",
              "      <td>0.511217</td>\n",
              "      <td>0.645086</td>\n",
              "      <td>0.512558</td>\n",
              "      <td>0.668914</td>\n",
              "      <td>0.544401</td>\n",
              "      <td>0.665825</td>\n",
              "    </tr>\n",
              "    <tr>\n",
              "      <th>286</th>\n",
              "      <td>2024-02-21</td>\n",
              "      <td>0.699901</td>\n",
              "      <td>0.591121</td>\n",
              "      <td>0.694984</td>\n",
              "      <td>0.604780</td>\n",
              "      <td>0.702225</td>\n",
              "      <td>0.619571</td>\n",
              "      <td>0.695844</td>\n",
              "    </tr>\n",
              "    <tr>\n",
              "      <th>287</th>\n",
              "      <td>2024-02-29</td>\n",
              "      <td>0.734260</td>\n",
              "      <td>0.654575</td>\n",
              "      <td>0.770954</td>\n",
              "      <td>0.668435</td>\n",
              "      <td>0.848544</td>\n",
              "      <td>0.698297</td>\n",
              "      <td>0.829840</td>\n",
              "    </tr>\n",
              "    <tr>\n",
              "      <th>288</th>\n",
              "      <td>2024-03-08</td>\n",
              "      <td>0.867105</td>\n",
              "      <td>0.734099</td>\n",
              "      <td>0.900114</td>\n",
              "      <td>0.789994</td>\n",
              "      <td>0.911835</td>\n",
              "      <td>0.801653</td>\n",
              "      <td>0.931516</td>\n",
              "    </tr>\n",
              "    <tr>\n",
              "      <th>289</th>\n",
              "      <td>2024-03-16</td>\n",
              "      <td>1.000000</td>\n",
              "      <td>0.829596</td>\n",
              "      <td>0.975848</td>\n",
              "      <td>0.803513</td>\n",
              "      <td>0.947317</td>\n",
              "      <td>0.772226</td>\n",
              "      <td>0.888780</td>\n",
              "    </tr>\n",
              "  </tbody>\n",
              "</table>\n",
              "<p>290 rows × 8 columns</p>\n",
              "</div>\n",
              "    <div class=\"colab-df-buttons\">\n",
              "\n",
              "  <div class=\"colab-df-container\">\n",
              "    <button class=\"colab-df-convert\" onclick=\"convertToInteractive('df-38b1e6e5-3781-4510-adf8-df1a212fb06d')\"\n",
              "            title=\"Convert this dataframe to an interactive table.\"\n",
              "            style=\"display:none;\">\n",
              "\n",
              "  <svg xmlns=\"http://www.w3.org/2000/svg\" height=\"24px\" viewBox=\"0 -960 960 960\">\n",
              "    <path d=\"M120-120v-720h720v720H120Zm60-500h600v-160H180v160Zm220 220h160v-160H400v160Zm0 220h160v-160H400v160ZM180-400h160v-160H180v160Zm440 0h160v-160H620v160ZM180-180h160v-160H180v160Zm440 0h160v-160H620v160Z\"/>\n",
              "  </svg>\n",
              "    </button>\n",
              "\n",
              "  <style>\n",
              "    .colab-df-container {\n",
              "      display:flex;\n",
              "      gap: 12px;\n",
              "    }\n",
              "\n",
              "    .colab-df-convert {\n",
              "      background-color: #E8F0FE;\n",
              "      border: none;\n",
              "      border-radius: 50%;\n",
              "      cursor: pointer;\n",
              "      display: none;\n",
              "      fill: #1967D2;\n",
              "      height: 32px;\n",
              "      padding: 0 0 0 0;\n",
              "      width: 32px;\n",
              "    }\n",
              "\n",
              "    .colab-df-convert:hover {\n",
              "      background-color: #E2EBFA;\n",
              "      box-shadow: 0px 1px 2px rgba(60, 64, 67, 0.3), 0px 1px 3px 1px rgba(60, 64, 67, 0.15);\n",
              "      fill: #174EA6;\n",
              "    }\n",
              "\n",
              "    .colab-df-buttons div {\n",
              "      margin-bottom: 4px;\n",
              "    }\n",
              "\n",
              "    [theme=dark] .colab-df-convert {\n",
              "      background-color: #3B4455;\n",
              "      fill: #D2E3FC;\n",
              "    }\n",
              "\n",
              "    [theme=dark] .colab-df-convert:hover {\n",
              "      background-color: #434B5C;\n",
              "      box-shadow: 0px 1px 3px 1px rgba(0, 0, 0, 0.15);\n",
              "      filter: drop-shadow(0px 1px 2px rgba(0, 0, 0, 0.3));\n",
              "      fill: #FFFFFF;\n",
              "    }\n",
              "  </style>\n",
              "\n",
              "    <script>\n",
              "      const buttonEl =\n",
              "        document.querySelector('#df-38b1e6e5-3781-4510-adf8-df1a212fb06d button.colab-df-convert');\n",
              "      buttonEl.style.display =\n",
              "        google.colab.kernel.accessAllowed ? 'block' : 'none';\n",
              "\n",
              "      async function convertToInteractive(key) {\n",
              "        const element = document.querySelector('#df-38b1e6e5-3781-4510-adf8-df1a212fb06d');\n",
              "        const dataTable =\n",
              "          await google.colab.kernel.invokeFunction('convertToInteractive',\n",
              "                                                    [key], {});\n",
              "        if (!dataTable) return;\n",
              "\n",
              "        const docLinkHtml = 'Like what you see? Visit the ' +\n",
              "          '<a target=\"_blank\" href=https://colab.research.google.com/notebooks/data_table.ipynb>data table notebook</a>'\n",
              "          + ' to learn more about interactive tables.';\n",
              "        element.innerHTML = '';\n",
              "        dataTable['output_type'] = 'display_data';\n",
              "        await google.colab.output.renderOutput(dataTable, element);\n",
              "        const docLink = document.createElement('div');\n",
              "        docLink.innerHTML = docLinkHtml;\n",
              "        element.appendChild(docLink);\n",
              "      }\n",
              "    </script>\n",
              "  </div>\n",
              "\n",
              "\n",
              "<div id=\"df-d6ebce65-a669-4ad7-8490-b1f8dea072e5\">\n",
              "  <button class=\"colab-df-quickchart\" onclick=\"quickchart('df-d6ebce65-a669-4ad7-8490-b1f8dea072e5')\"\n",
              "            title=\"Suggest charts\"\n",
              "            style=\"display:none;\">\n",
              "\n",
              "<svg xmlns=\"http://www.w3.org/2000/svg\" height=\"24px\"viewBox=\"0 0 24 24\"\n",
              "     width=\"24px\">\n",
              "    <g>\n",
              "        <path d=\"M19 3H5c-1.1 0-2 .9-2 2v14c0 1.1.9 2 2 2h14c1.1 0 2-.9 2-2V5c0-1.1-.9-2-2-2zM9 17H7v-7h2v7zm4 0h-2V7h2v10zm4 0h-2v-4h2v4z\"/>\n",
              "    </g>\n",
              "</svg>\n",
              "  </button>\n",
              "\n",
              "<style>\n",
              "  .colab-df-quickchart {\n",
              "      --bg-color: #E8F0FE;\n",
              "      --fill-color: #1967D2;\n",
              "      --hover-bg-color: #E2EBFA;\n",
              "      --hover-fill-color: #174EA6;\n",
              "      --disabled-fill-color: #AAA;\n",
              "      --disabled-bg-color: #DDD;\n",
              "  }\n",
              "\n",
              "  [theme=dark] .colab-df-quickchart {\n",
              "      --bg-color: #3B4455;\n",
              "      --fill-color: #D2E3FC;\n",
              "      --hover-bg-color: #434B5C;\n",
              "      --hover-fill-color: #FFFFFF;\n",
              "      --disabled-bg-color: #3B4455;\n",
              "      --disabled-fill-color: #666;\n",
              "  }\n",
              "\n",
              "  .colab-df-quickchart {\n",
              "    background-color: var(--bg-color);\n",
              "    border: none;\n",
              "    border-radius: 50%;\n",
              "    cursor: pointer;\n",
              "    display: none;\n",
              "    fill: var(--fill-color);\n",
              "    height: 32px;\n",
              "    padding: 0;\n",
              "    width: 32px;\n",
              "  }\n",
              "\n",
              "  .colab-df-quickchart:hover {\n",
              "    background-color: var(--hover-bg-color);\n",
              "    box-shadow: 0 1px 2px rgba(60, 64, 67, 0.3), 0 1px 3px 1px rgba(60, 64, 67, 0.15);\n",
              "    fill: var(--button-hover-fill-color);\n",
              "  }\n",
              "\n",
              "  .colab-df-quickchart-complete:disabled,\n",
              "  .colab-df-quickchart-complete:disabled:hover {\n",
              "    background-color: var(--disabled-bg-color);\n",
              "    fill: var(--disabled-fill-color);\n",
              "    box-shadow: none;\n",
              "  }\n",
              "\n",
              "  .colab-df-spinner {\n",
              "    border: 2px solid var(--fill-color);\n",
              "    border-color: transparent;\n",
              "    border-bottom-color: var(--fill-color);\n",
              "    animation:\n",
              "      spin 1s steps(1) infinite;\n",
              "  }\n",
              "\n",
              "  @keyframes spin {\n",
              "    0% {\n",
              "      border-color: transparent;\n",
              "      border-bottom-color: var(--fill-color);\n",
              "      border-left-color: var(--fill-color);\n",
              "    }\n",
              "    20% {\n",
              "      border-color: transparent;\n",
              "      border-left-color: var(--fill-color);\n",
              "      border-top-color: var(--fill-color);\n",
              "    }\n",
              "    30% {\n",
              "      border-color: transparent;\n",
              "      border-left-color: var(--fill-color);\n",
              "      border-top-color: var(--fill-color);\n",
              "      border-right-color: var(--fill-color);\n",
              "    }\n",
              "    40% {\n",
              "      border-color: transparent;\n",
              "      border-right-color: var(--fill-color);\n",
              "      border-top-color: var(--fill-color);\n",
              "    }\n",
              "    60% {\n",
              "      border-color: transparent;\n",
              "      border-right-color: var(--fill-color);\n",
              "    }\n",
              "    80% {\n",
              "      border-color: transparent;\n",
              "      border-right-color: var(--fill-color);\n",
              "      border-bottom-color: var(--fill-color);\n",
              "    }\n",
              "    90% {\n",
              "      border-color: transparent;\n",
              "      border-bottom-color: var(--fill-color);\n",
              "    }\n",
              "  }\n",
              "</style>\n",
              "\n",
              "  <script>\n",
              "    async function quickchart(key) {\n",
              "      const quickchartButtonEl =\n",
              "        document.querySelector('#' + key + ' button');\n",
              "      quickchartButtonEl.disabled = true;  // To prevent multiple clicks.\n",
              "      quickchartButtonEl.classList.add('colab-df-spinner');\n",
              "      try {\n",
              "        const charts = await google.colab.kernel.invokeFunction(\n",
              "            'suggestCharts', [key], {});\n",
              "      } catch (error) {\n",
              "        console.error('Error during call to suggestCharts:', error);\n",
              "      }\n",
              "      quickchartButtonEl.classList.remove('colab-df-spinner');\n",
              "      quickchartButtonEl.classList.add('colab-df-quickchart-complete');\n",
              "    }\n",
              "    (() => {\n",
              "      let quickchartButtonEl =\n",
              "        document.querySelector('#df-d6ebce65-a669-4ad7-8490-b1f8dea072e5 button');\n",
              "      quickchartButtonEl.style.display =\n",
              "        google.colab.kernel.accessAllowed ? 'block' : 'none';\n",
              "    })();\n",
              "  </script>\n",
              "</div>\n",
              "\n",
              "  <div id=\"id_f4ecb4f8-b248-4d9d-a356-f75b18240dae\">\n",
              "    <style>\n",
              "      .colab-df-generate {\n",
              "        background-color: #E8F0FE;\n",
              "        border: none;\n",
              "        border-radius: 50%;\n",
              "        cursor: pointer;\n",
              "        display: none;\n",
              "        fill: #1967D2;\n",
              "        height: 32px;\n",
              "        padding: 0 0 0 0;\n",
              "        width: 32px;\n",
              "      }\n",
              "\n",
              "      .colab-df-generate:hover {\n",
              "        background-color: #E2EBFA;\n",
              "        box-shadow: 0px 1px 2px rgba(60, 64, 67, 0.3), 0px 1px 3px 1px rgba(60, 64, 67, 0.15);\n",
              "        fill: #174EA6;\n",
              "      }\n",
              "\n",
              "      [theme=dark] .colab-df-generate {\n",
              "        background-color: #3B4455;\n",
              "        fill: #D2E3FC;\n",
              "      }\n",
              "\n",
              "      [theme=dark] .colab-df-generate:hover {\n",
              "        background-color: #434B5C;\n",
              "        box-shadow: 0px 1px 3px 1px rgba(0, 0, 0, 0.15);\n",
              "        filter: drop-shadow(0px 1px 2px rgba(0, 0, 0, 0.3));\n",
              "        fill: #FFFFFF;\n",
              "      }\n",
              "    </style>\n",
              "    <button class=\"colab-df-generate\" onclick=\"generateWithVariable('windowed_df')\"\n",
              "            title=\"Generate code using this dataframe.\"\n",
              "            style=\"display:none;\">\n",
              "\n",
              "  <svg xmlns=\"http://www.w3.org/2000/svg\" height=\"24px\"viewBox=\"0 0 24 24\"\n",
              "       width=\"24px\">\n",
              "    <path d=\"M7,19H8.4L18.45,9,17,7.55,7,17.6ZM5,21V16.75L18.45,3.32a2,2,0,0,1,2.83,0l1.4,1.43a1.91,1.91,0,0,1,.58,1.4,1.91,1.91,0,0,1-.58,1.4L9.25,21ZM18.45,9,17,7.55Zm-12,3A5.31,5.31,0,0,0,4.9,8.1,5.31,5.31,0,0,0,1,6.5,5.31,5.31,0,0,0,4.9,4.9,5.31,5.31,0,0,0,6.5,1,5.31,5.31,0,0,0,8.1,4.9,5.31,5.31,0,0,0,12,6.5,5.46,5.46,0,0,0,6.5,12Z\"/>\n",
              "  </svg>\n",
              "    </button>\n",
              "    <script>\n",
              "      (() => {\n",
              "      const buttonEl =\n",
              "        document.querySelector('#id_f4ecb4f8-b248-4d9d-a356-f75b18240dae button.colab-df-generate');\n",
              "      buttonEl.style.display =\n",
              "        google.colab.kernel.accessAllowed ? 'block' : 'none';\n",
              "\n",
              "      buttonEl.onclick = () => {\n",
              "        google.colab.notebook.generateWithVariable('windowed_df');\n",
              "      }\n",
              "      })();\n",
              "    </script>\n",
              "  </div>\n",
              "\n",
              "    </div>\n",
              "  </div>\n"
            ],
            "application/vnd.google.colaboratory.intrinsic+json": {
              "type": "dataframe",
              "variable_name": "windowed_df",
              "summary": "{\n  \"name\": \"windowed_df\",\n  \"rows\": 290,\n  \"fields\": [\n    {\n      \"column\": \"Target Date\",\n      \"properties\": {\n        \"dtype\": \"date\",\n        \"min\": \"2017-11-16 00:00:00\",\n        \"max\": \"2024-03-16 00:00:00\",\n        \"num_unique_values\": 290,\n        \"samples\": [\n          \"2019-09-19 00:00:00\",\n          \"2023-07-12 00:00:00\",\n          \"2018-11-11 00:00:00\"\n        ],\n        \"semantic_type\": \"\",\n        \"description\": \"\"\n      }\n    },\n    {\n      \"column\": \"Target-3\",\n      \"properties\": {\n        \"dtype\": \"number\",\n        \"std\": 0.23934880587622492,\n        \"min\": 0.003184004571627874,\n        \"max\": 0.9999999999999999,\n        \"num_unique_values\": 290,\n        \"samples\": [\n          0.10079256962117952,\n          0.38562248322377035,\n          0.046057390440450825\n        ],\n        \"semantic_type\": \"\",\n        \"description\": \"\"\n      }\n    },\n    {\n      \"column\": \"ETH-3\",\n      \"properties\": {\n        \"dtype\": \"number\",\n        \"std\": 0.24171143769717596,\n        \"min\": 0.0015604278107319847,\n        \"max\": 1.0,\n        \"num_unique_values\": 290,\n        \"samples\": [\n          0.023860014495355738,\n          0.37622347197707673,\n          0.027057674255054332\n        ],\n        \"semantic_type\": \"\",\n        \"description\": \"\"\n      }\n    },\n    {\n      \"column\": \"Target-2\",\n      \"properties\": {\n        \"dtype\": \"number\",\n        \"std\": 0.2394107352945742,\n        \"min\": 0.002689122221346346,\n        \"max\": 0.9758484606222638,\n        \"num_unique_values\": 290,\n        \"samples\": [\n          0.1002840062884568,\n          0.38910491241067724,\n          0.04508239719558337\n        ],\n        \"semantic_type\": \"\",\n        \"description\": \"\"\n      }\n    },\n    {\n      \"column\": \"ETH-2\",\n      \"properties\": {\n        \"dtype\": \"number\",\n        \"std\": 0.24282801629825163,\n        \"min\": 0.0009808006880260532,\n        \"max\": 0.9837093586072463,\n        \"num_unique_values\": 290,\n        \"samples\": [\n          0.02629151028698674,\n          0.3799348615336936,\n          0.02660143508828308\n        ],\n        \"semantic_type\": \"\",\n        \"description\": \"\"\n      }\n    },\n    {\n      \"column\": \"Target-1\",\n      \"properties\": {\n        \"dtype\": \"number\",\n        \"std\": 0.23898205409977227,\n        \"min\": 0.002534207142041299,\n        \"max\": 0.9473171310420235,\n        \"num_unique_values\": 290,\n        \"samples\": [\n          0.09966802319377155,\n          0.3920611058576684,\n          0.045420281233991215\n        ],\n        \"semantic_type\": \"\",\n        \"description\": \"\"\n      }\n    },\n    {\n      \"column\": \"ETH-1\",\n      \"properties\": {\n        \"dtype\": \"number\",\n        \"std\": 0.2416803858832779,\n        \"min\": 0.0013293776758782454,\n        \"max\": 0.9627916021337058,\n        \"num_unique_values\": 290,\n        \"samples\": [\n          0.026880430991100535,\n          0.37946522537891175,\n          0.027121552450974428\n        ],\n        \"semantic_type\": \"\",\n        \"description\": \"\"\n      }\n    },\n    {\n      \"column\": \"Target\",\n      \"properties\": {\n        \"dtype\": \"number\",\n        \"std\": 0.23752945670010892,\n        \"min\": 0.0011012042780088258,\n        \"max\": 0.9315156817952485,\n        \"num_unique_values\": 290,\n        \"samples\": [\n          0.10064397413547133,\n          0.3887781366647837,\n          0.04544962841684395\n        ],\n        \"semantic_type\": \"\",\n        \"description\": \"\"\n      }\n    }\n  ]\n}"
            }
          },
          "metadata": {},
          "execution_count": 4
        }
      ],
      "source": [
        "# Normalize data\n",
        "scaler = MinMaxScaler()\n",
        "df[['Close', 'ETH_Close']] = scaler.fit_transform(df[['Close', 'ETH_Close']])\n",
        "\n",
        "# Define the windowing function\n",
        "def df_to_windowed_df(dataframe, first_date_str, last_date_str, n=3):\n",
        "    first_date = pd.to_datetime(first_date_str)\n",
        "    last_date = pd.to_datetime(last_date_str)\n",
        "    target_date = first_date\n",
        "    dates = []\n",
        "    X, Y = [], []\n",
        "\n",
        "    while True:\n",
        "        # Check if there's enough data to form a window\n",
        "        if len(dataframe.loc[:target_date]) < n + 1:\n",
        "            print(f'Not enough data to create window for date {target_date}. Skipping.')\n",
        "            target_date += datetime.timedelta(days=1)\n",
        "            if target_date > last_date:\n",
        "                break\n",
        "            continue\n",
        "\n",
        "        df_subset = dataframe.loc[:target_date].tail(n+1)\n",
        "        if len(df_subset) != n+1:\n",
        "            print(f'Error: Window of size {n} is too large for date {target_date}. Skipping.')\n",
        "            target_date += datetime.timedelta(days=1)\n",
        "            if target_date > last_date:\n",
        "                break\n",
        "            continue\n",
        "\n",
        "        close_values = df_subset['Close'].to_numpy()\n",
        "        eth_close_values = df_subset['ETH_Close'].to_numpy()\n",
        "        x = np.hstack([close_values[:-1].reshape(-1, 1), eth_close_values[:-1].reshape(-1, 1)])\n",
        "        y = close_values[-1]\n",
        "\n",
        "        dates.append(target_date)\n",
        "        X.append(x)\n",
        "        Y.append(y)\n",
        "\n",
        "        next_week = dataframe.loc[target_date:target_date + datetime.timedelta(days=7)]\n",
        "        if next_week.empty:\n",
        "            break\n",
        "\n",
        "        next_date = next_week.index[-1] + datetime.timedelta(days=1)\n",
        "        if next_date > last_date:\n",
        "            break\n",
        "\n",
        "        target_date = next_date\n",
        "\n",
        "    ret_df = pd.DataFrame({'Target Date': dates})\n",
        "    X = np.array(X)\n",
        "\n",
        "    # Ensure X is 3-dimensional\n",
        "    if X.ndim == 2:\n",
        "        X = X[:, :, np.newaxis]  # Add an extra dimension\n",
        "\n",
        "    for i in range(n):\n",
        "        ret_df[f'Target-{n-i}'] = X[:, i, 0]  # Bitcoin Close prices\n",
        "        ret_df[f'ETH-{n-i}'] = X[:, i, 1]  # Ethereum Close prices\n",
        "\n",
        "    ret_df['Target'] = Y\n",
        "    return ret_df\n",
        "\n",
        "\n",
        "windowed_df = df_to_windowed_df(df,\n",
        "                                '11/16/2017',\n",
        "                                '03/18/2024',\n",
        "                                n=3)\n",
        "windowed_df"
      ]
    },
    {
      "cell_type": "code",
      "execution_count": null,
      "metadata": {
        "colab": {
          "base_uri": "https://localhost:8080/"
        },
        "id": "3uo1BYJAihh0",
        "outputId": "44a407cd-24cb-4b90-b8b4-84f4c1923cfa"
      },
      "outputs": [
        {
          "output_type": "stream",
          "name": "stdout",
          "text": [
            "(290,)\n"
          ]
        }
      ],
      "source": [
        "def windowed_df_to_date_X_y(windowed_dataframe):\n",
        "    df_as_np = windowed_dataframe.to_numpy()\n",
        "    dates = df_as_np[:, 0]\n",
        "    middle_matrix = df_as_np[:, 1:-1]\n",
        "    X = middle_matrix.reshape((len(dates), 3, 2))  # Ensure the correct shape\n",
        "    Y = df_as_np[:, -1]\n",
        "    return dates, X.astype(np.float32), Y.astype(np.float32)\n",
        "\n",
        "dates, X, y = windowed_df_to_date_X_y(windowed_df)\n",
        "\n",
        "dates.shape, X.shape, y.shape\n",
        "print(dates.shape)"
      ]
    },
    {
      "cell_type": "code",
      "execution_count": null,
      "metadata": {
        "id": "Rvtsn_ucihh0"
      },
      "outputs": [],
      "source": [
        "# q_80 = int(len(dates) * .8)\n",
        "# q_90 = int(len(dates) * .9)\n",
        "\n",
        "# dates_train, X_train, y_train = dates[:q_80], X[:q_80], y[:q_80]\n",
        "# dates_test, X_test, y_test = dates[q_80:], X[q_80:], y[q_80:]"
      ]
    },
    {
      "cell_type": "code",
      "execution_count": null,
      "metadata": {
        "id": "Xl1av9Ueihh0"
      },
      "outputs": [],
      "source": [
        "dates_train,dates_test,X_train,X_test,y_train,y_test = train_test_split(dates,X,y,test_size=0.2)"
      ]
    },
    {
      "cell_type": "code",
      "source": [
        "# X_train = X_train.reshape(-1, 3)\n",
        "# print(y_train)\n",
        "# param_grid = {\n",
        "#     \"n_rows\": [3,4,5,6,7],\n",
        "#     \"n_columns\": [260,270,280],\n",
        "#     \"learning_rate_start\": [1.11, 1.110,1.111,1.112],\n",
        "#     \"learning_rate_end\": [0.7],\n",
        "# }\n",
        "# som = susi.SOMRegressor()\n",
        "# clf = GridSearchCV(som, param_grid,cv=5,n_jobs=-1)\n",
        "# clf.fit(X_train, y_train)\n",
        "# print(clf.best_params_)"
      ],
      "metadata": {
        "id": "FmXZiHTTvQJt"
      },
      "execution_count": null,
      "outputs": []
    },
    {
      "cell_type": "code",
      "source": [
        "# som1 = susi.SOMRegressor(\n",
        "#     n_rows = 5,\n",
        "#     n_columns = 270,\n",
        "#     learning_rate_start = 1.112,\n",
        "#     learning_rate_end = 0.7\n",
        "# )\n",
        "# som1.fit(X_train,y_train)\n",
        "# Reshape X_train and X_test to be 2D arrays\n",
        "X_train_reshaped = X_train.reshape(X_train.shape[0], -1)\n",
        "X_test_reshaped = X_test.reshape(X_test.shape[0], -1)\n",
        "\n",
        "# Fit the SOMRegressor\n",
        "som1 = susi.SOMRegressor(\n",
        "    n_rows=5,\n",
        "    n_columns=270,\n",
        "    learning_rate_start=1.112,\n",
        "    learning_rate_end=0.7\n",
        ")\n",
        "som1.fit(X_train_reshaped, y_train)\n",
        "\n",
        "# Predict or evaluate using reshaped test data\n",
        "predicted = som1.predict(X_test_reshaped)\n"
      ],
      "metadata": {
        "id": "FbL2BPbzmLqP"
      },
      "execution_count": null,
      "outputs": []
    },
    {
      "cell_type": "code",
      "source": [
        "# X_test = X_test.reshape(-1,3)\n",
        "# predicted = som1.predict(X_test)\n",
        "print(predicted)"
      ],
      "metadata": {
        "colab": {
          "base_uri": "https://localhost:8080/"
        },
        "id": "1yPbLnTomQKX",
        "outputId": "ea27de7b-0443-4959-c0fa-c7404c25bf7a"
      },
      "execution_count": null,
      "outputs": [
        {
          "output_type": "stream",
          "name": "stdout",
          "text": [
            "[0.04709857 0.45207928 0.23080055 0.1242225  0.11341965 0.42630059\n",
            " 0.43040683 0.08361227 0.55486204 0.06961375 0.08159578 0.43040683\n",
            " 0.29493191 0.07658447 0.28183828 0.57872677 0.08394377 0.08394377\n",
            " 0.11376961 0.42626413 0.53937045 0.13317285 0.23129626 0.1242225\n",
            " 0.25019143 0.64521377 0.08159578 0.42802123 0.34304515 0.70981647\n",
            " 0.62795059 0.06923027 0.53941546 0.08159578 0.28636652 0.62335524\n",
            " 0.11341965 0.05160612 0.55486204 0.06859559 0.07677994 0.23641453\n",
            " 0.00457314 0.23129626 0.38808557 0.57006392 0.34304515 0.297691\n",
            " 0.62596204 0.70244079 0.1242225  0.55669608 0.00457314 0.05114736\n",
            " 0.26119822 0.00693726 0.0732786  0.07202838]\n"
          ]
        }
      ]
    },
    {
      "cell_type": "code",
      "execution_count": null,
      "metadata": {
        "id": "Syh0mei8ihh0"
      },
      "outputs": [],
      "source": [
        "# print(clf.best_score_)"
      ]
    },
    {
      "cell_type": "code",
      "execution_count": null,
      "metadata": {
        "colab": {
          "base_uri": "https://localhost:8080/"
        },
        "id": "hgZoIqiNihh0",
        "outputId": "12fd8f6a-3910-4bd9-f2b4-30306f10d088"
      },
      "outputs": [
        {
          "output_type": "stream",
          "name": "stdout",
          "text": [
            "(58,)\n",
            "R2 score :  0.9810710744759918\n"
          ]
        }
      ],
      "source": [
        "print(y_test.shape)\n",
        "R2 =r2_score(y_test,predicted)\n",
        "print(\"R2 score : \",R2)"
      ]
    },
    {
      "cell_type": "code",
      "execution_count": null,
      "metadata": {
        "colab": {
          "base_uri": "https://localhost:8080/"
        },
        "id": "KIVA5HQ7ihh0",
        "outputId": "f2e4c348-fd18-4652-8622-ad0120b95df2"
      },
      "outputs": [
        {
          "output_type": "stream",
          "name": "stdout",
          "text": [
            "Adjusted R2 : 0.9809055153606215\n"
          ]
        }
      ],
      "source": [
        "aR2 = 1 - ((1-R2)*(693-1)/(693-1-6))\n",
        "print(\"Adjusted R2 :\",aR2)"
      ]
    },
    {
      "cell_type": "code",
      "source": [
        "MAE = mean_absolute_error(y_test,predicted)\n",
        "print(\"MAE : \",MAE)"
      ],
      "metadata": {
        "colab": {
          "base_uri": "https://localhost:8080/"
        },
        "id": "4Zq1qNPmRB24",
        "outputId": "f44d957a-a1fa-4dd9-946a-aa50817124c5"
      },
      "execution_count": null,
      "outputs": [
        {
          "output_type": "stream",
          "name": "stdout",
          "text": [
            "MAE :  0.022612700997922126\n"
          ]
        }
      ]
    },
    {
      "cell_type": "code",
      "source": [
        "MSE = mean_squared_error(y_test,predicted)\n",
        "print(\"MSE : \",MSE)"
      ],
      "metadata": {
        "colab": {
          "base_uri": "https://localhost:8080/"
        },
        "id": "IpUk-qclRHIr",
        "outputId": "4055dbe9-d08e-4c1e-c269-5514da9eb9bb"
      },
      "execution_count": null,
      "outputs": [
        {
          "output_type": "stream",
          "name": "stdout",
          "text": [
            "MSE :  0.0009481909422036866\n"
          ]
        }
      ]
    },
    {
      "cell_type": "code",
      "source": [
        "print(\"RMSE :\",np.sqrt(MSE))"
      ],
      "metadata": {
        "colab": {
          "base_uri": "https://localhost:8080/"
        },
        "id": "03X-9edYRLkh",
        "outputId": "59ae4af0-6788-429a-e29e-05d38849f2c2"
      },
      "execution_count": null,
      "outputs": [
        {
          "output_type": "stream",
          "name": "stdout",
          "text": [
            "RMSE : 0.03079270923779989\n"
          ]
        }
      ]
    },
    {
      "cell_type": "code",
      "source": [
        "from sklearn.preprocessing import MinMaxScaler\n",
        "scaler = MinMaxScaler()\n",
        "scaler.fit(y_train.reshape(-1,1))\n",
        "\n",
        "test_predict = scaler.inverse_transform(predicted.reshape(-1,1))\n",
        "original_ytest = scaler.inverse_transform(y_test.reshape(-1,1))"
      ],
      "metadata": {
        "id": "h0XgCGcmtD_d"
      },
      "execution_count": null,
      "outputs": []
    },
    {
      "cell_type": "code",
      "source": [
        "n=len(test_predict)\n",
        "dates_test1= dates_test\n",
        "for i in range(n):\n",
        "  test_predict[i]=float(test_predict[i][0])\n",
        "  original_ytest[i]=float(original_ytest[i][0])\n",
        "d=dict()\n",
        "d1=dict()\n",
        "for i in range(n):\n",
        "  d[dates_test[i]]=test_predict[i]\n",
        "  d1[dates_test[i]]=original_ytest[i]\n",
        "dates_test.sort()\n",
        "test_predict1=list()\n",
        "for i in range(n):\n",
        "  test_predict1.append(d[dates_test[i]])\n",
        "original_ytest1=list()\n",
        "for i in range(n):\n",
        "  original_ytest1.append(d1[dates_test[i]])"
      ],
      "metadata": {
        "id": "AreH7XcluZHy"
      },
      "execution_count": null,
      "outputs": []
    },
    {
      "cell_type": "code",
      "source": [
        "plt.plot(dates_test,test_predict1,color='mediumspringgreen')\n",
        "plt.plot(dates_test,original_ytest1,color='darkslategray')\n",
        "plt.legend(['Testing Predictions', 'Testing Observations'])\n",
        "# print(X_test.getIndexOf())\n",
        "# print(Y_test)"
      ],
      "metadata": {
        "colab": {
          "base_uri": "https://localhost:8080/",
          "height": 447
        },
        "id": "t2HRAUOLnuYN",
        "outputId": "7c5372fe-098d-4738-f6c7-473ab7955aac"
      },
      "execution_count": null,
      "outputs": [
        {
          "output_type": "execute_result",
          "data": {
            "text/plain": [
              "<matplotlib.legend.Legend at 0x7e0b6c6090f0>"
            ]
          },
          "metadata": {},
          "execution_count": 19
        },
        {
          "output_type": "display_data",
          "data": {
            "text/plain": [
              "<Figure size 640x480 with 1 Axes>"
            ],
            "image/png": "[encoded data removed]"
          },
          "metadata": {}
        }
      ]
    },
    {
      "cell_type": "code",
      "source": [],
      "metadata": {
        "id": "n_lodPaUMqTw"
      },
      "execution_count": null,
      "outputs": []
    }
  ],
  "metadata": {
    "kernelspec": {
      "display_name": "Python 3",
      "language": "python",
      "name": "python3"
    },
    "language_info": {
      "codemirror_mode": {
        "name": "ipython",
        "version": 3
      },
      "file_extension": ".py",
      "mimetype": "text/x-python",
      "name": "python",
      "nbconvert_exporter": "python",
      "pygments_lexer": "ipython3",
      "version": "3.9.6"
    },
    "colab": {
      "provenance": []
    }
  },
  "nbformat": 4,
  "nbformat_minor": 0
}