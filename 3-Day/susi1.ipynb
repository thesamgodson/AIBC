{
  "cells": [
    {
      "cell_type": "code",
      "source": [
        "!pip install susi"
      ],
      "metadata": {
        "colab": {
          "base_uri": "https://localhost:8080/"
        },
        "id": "9KZ_4W49imjH",
        "outputId": "f401f0be-8950-4bfb-f1bd-f512d744ef94"
      },
      "execution_count": null,
      "outputs": [
        {
          "output_type": "stream",
          "name": "stdout",
          "text": [
            "Collecting susi\n",
            "  Downloading susi-1.4.0.zip (44 kB)\n",
            "\u001b[2K     \u001b[90m━━━━━━━━━━━━━━━━━━━━━━━━━━━━━━━━━━━━━━━━\u001b[0m \u001b[32m44.8/44.8 kB\u001b[0m \u001b[31m851.4 kB/s\u001b[0m eta \u001b[36m0:00:00\u001b[0m\n",
            "\u001b[?25h  Installing build dependencies ... \u001b[?25l\u001b[?25hdone\n",
            "  Getting requirements to build wheel ... \u001b[?25l\u001b[?25hdone\n",
            "  Preparing metadata (pyproject.toml) ... \u001b[?25l\u001b[?25hdone\n",
            "Requirement already satisfied: joblib in /usr/local/lib/python3.10/dist-packages (from susi) (1.4.0)\n",
            "Requirement already satisfied: numpy in /usr/local/lib/python3.10/dist-packages (from susi) (1.25.2)\n",
            "Requirement already satisfied: scikit-learn in /usr/local/lib/python3.10/dist-packages (from susi) (1.2.2)\n",
            "Requirement already satisfied: scipy in /usr/local/lib/python3.10/dist-packages (from susi) (1.11.4)\n",
            "Requirement already satisfied: tqdm in /usr/local/lib/python3.10/dist-packages (from susi) (4.66.2)\n",
            "Requirement already satisfied: matplotlib in /usr/local/lib/python3.10/dist-packages (from susi) (3.7.1)\n",
            "Requirement already satisfied: contourpy>=1.0.1 in /usr/local/lib/python3.10/dist-packages (from matplotlib->susi) (1.2.1)\n",
            "Requirement already satisfied: cycler>=0.10 in /usr/local/lib/python3.10/dist-packages (from matplotlib->susi) (0.12.1)\n",
            "Requirement already satisfied: fonttools>=4.22.0 in /usr/local/lib/python3.10/dist-packages (from matplotlib->susi) (4.51.0)\n",
            "Requirement already satisfied: kiwisolver>=1.0.1 in /usr/local/lib/python3.10/dist-packages (from matplotlib->susi) (1.4.5)\n",
            "Requirement already satisfied: packaging>=20.0 in /usr/local/lib/python3.10/dist-packages (from matplotlib->susi) (24.0)\n",
            "Requirement already satisfied: pillow>=6.2.0 in /usr/local/lib/python3.10/dist-packages (from matplotlib->susi) (9.4.0)\n",
            "Requirement already satisfied: pyparsing>=2.3.1 in /usr/local/lib/python3.10/dist-packages (from matplotlib->susi) (3.1.2)\n",
            "Requirement already satisfied: python-dateutil>=2.7 in /usr/local/lib/python3.10/dist-packages (from matplotlib->susi) (2.8.2)\n",
            "Requirement already satisfied: threadpoolctl>=2.0.0 in /usr/local/lib/python3.10/dist-packages (from scikit-learn->susi) (3.4.0)\n",
            "Requirement already satisfied: six>=1.5 in /usr/local/lib/python3.10/dist-packages (from python-dateutil>=2.7->matplotlib->susi) (1.16.0)\n",
            "Building wheels for collected packages: susi\n",
            "  Building wheel for susi (pyproject.toml) ... \u001b[?25l\u001b[?25hdone\n",
            "  Created wheel for susi: filename=susi-1.4.0-py3-none-any.whl size=26733 sha256=13a3a5f9cac2db9af65224733dcbfa3e60ffc024663a0028c572d90b04ca3ad4\n",
            "  Stored in directory: /root/.cache/pip/wheels/a9/14/88/3e2bf6be56b38907e5dc198d85473c9144076605f4ff4e9bd2\n",
            "Successfully built susi\n",
            "Installing collected packages: susi\n",
            "Successfully installed susi-1.4.0\n"
          ]
        }
      ]
    },
    {
      "cell_type": "code",
      "execution_count": null,
      "metadata": {
        "id": "iApbUAPQihhy"
      },
      "outputs": [],
      "source": [
        "import susi\n",
        "import pandas as pd\n",
        "import numpy as np\n",
        "from sklearn.model_selection import train_test_split\n",
        "from sklearn.model_selection import GridSearchCV\n",
        "import matplotlib.pyplot as plt\n",
        "from sklearn.metrics import mean_absolute_error,mean_squared_error,r2_score"
      ]
    },
    {
      "cell_type": "code",
      "execution_count": null,
      "metadata": {
        "id": "jgz359h7ihhz"
      },
      "outputs": [],
      "source": [
        "df = pd.read_csv('BTC-USD.csv')\n",
        "df=df[['Date','Close']]\n",
        "import datetime\n",
        "\n",
        "def str_to_datetime(s):\n",
        "    split = s.split('-')\n",
        "    year, month, day = int(split[0]), int(split[1]), int(split[2])\n",
        "    return datetime.datetime(year=year, month=month, day=day)\n",
        "\n",
        "datetime_object = str_to_datetime('1986-03-19')\n",
        "df['Date'] = df['Date'].apply(str_to_datetime)\n",
        "df.index = df.pop('Date')"
      ]
    },
    {
      "cell_type": "code",
      "execution_count": null,
      "metadata": {
        "colab": {
          "base_uri": "https://localhost:8080/",
          "height": 424
        },
        "id": "ZI3hTiJcihhz",
        "outputId": "9a7440e9-a203-4e80-c94c-c242252c3fc2"
      },
      "outputs": [
        {
          "output_type": "execute_result",
          "data": {
            "text/plain": [
              "     Target Date      Target-3      Target-2      Target-1        Target\n",
              "0     2014-09-24    398.821014    402.152008    435.790985    423.204987\n",
              "1     2014-09-25    402.152008    435.790985    423.204987    411.574005\n",
              "2     2014-09-26    435.790985    423.204987    411.574005    404.424988\n",
              "3     2014-09-27    423.204987    411.574005    404.424988    399.519989\n",
              "4     2014-09-28    411.574005    404.424988    399.519989    377.181000\n",
              "...          ...           ...           ...           ...           ...\n",
              "3458  2024-03-13  69019.789063  72123.906250  71481.289063  73083.500000\n",
              "3459  2024-03-14  72123.906250  71481.289063  73083.500000  71396.593750\n",
              "3460  2024-03-15  71481.289063  73083.500000  71396.593750  69403.773438\n",
              "3461  2024-03-16  73083.500000  71396.593750  69403.773438  65315.117188\n",
              "3462  2024-03-17  71396.593750  69403.773438  65315.117188  68390.625000\n",
              "\n",
              "[3463 rows x 5 columns]"
            ],
            "text/html": [
              "\n",
              "  <div id=\"df-2e81958d-fe36-4f5a-80ce-31b93b173385\" class=\"colab-df-container\">\n",
              "    <div>\n",
              "<style scoped>\n",
              "    .dataframe tbody tr th:only-of-type {\n",
              "        vertical-align: middle;\n",
              "    }\n",
              "\n",
              "    .dataframe tbody tr th {\n",
              "        vertical-align: top;\n",
              "    }\n",
              "\n",
              "    .dataframe thead th {\n",
              "        text-align: right;\n",
              "    }\n",
              "</style>\n",
              "<table border=\"1\" class=\"dataframe\">\n",
              "  <thead>\n",
              "    <tr style=\"text-align: right;\">\n",
              "      <th></th>\n",
              "      <th>Target Date</th>\n",
              "      <th>Target-3</th>\n",
              "      <th>Target-2</th>\n",
              "      <th>Target-1</th>\n",
              "      <th>Target</th>\n",
              "    </tr>\n",
              "  </thead>\n",
              "  <tbody>\n",
              "    <tr>\n",
              "      <th>0</th>\n",
              "      <td>2014-09-24</td>\n",
              "      <td>398.821014</td>\n",
              "      <td>402.152008</td>\n",
              "      <td>435.790985</td>\n",
              "      <td>423.204987</td>\n",
              "    </tr>\n",
              "    <tr>\n",
              "      <th>1</th>\n",
              "      <td>2014-09-25</td>\n",
              "      <td>402.152008</td>\n",
              "      <td>435.790985</td>\n",
              "      <td>423.204987</td>\n",
              "      <td>411.574005</td>\n",
              "    </tr>\n",
              "    <tr>\n",
              "      <th>2</th>\n",
              "      <td>2014-09-26</td>\n",
              "      <td>435.790985</td>\n",
              "      <td>423.204987</td>\n",
              "      <td>411.574005</td>\n",
              "      <td>404.424988</td>\n",
              "    </tr>\n",
              "    <tr>\n",
              "      <th>3</th>\n",
              "      <td>2014-09-27</td>\n",
              "      <td>423.204987</td>\n",
              "      <td>411.574005</td>\n",
              "      <td>404.424988</td>\n",
              "      <td>399.519989</td>\n",
              "    </tr>\n",
              "    <tr>\n",
              "      <th>4</th>\n",
              "      <td>2014-09-28</td>\n",
              "      <td>411.574005</td>\n",
              "      <td>404.424988</td>\n",
              "      <td>399.519989</td>\n",
              "      <td>377.181000</td>\n",
              "    </tr>\n",
              "    <tr>\n",
              "      <th>...</th>\n",
              "      <td>...</td>\n",
              "      <td>...</td>\n",
              "      <td>...</td>\n",
              "      <td>...</td>\n",
              "      <td>...</td>\n",
              "    </tr>\n",
              "    <tr>\n",
              "      <th>3458</th>\n",
              "      <td>2024-03-13</td>\n",
              "      <td>69019.789063</td>\n",
              "      <td>72123.906250</td>\n",
              "      <td>71481.289063</td>\n",
              "      <td>73083.500000</td>\n",
              "    </tr>\n",
              "    <tr>\n",
              "      <th>3459</th>\n",
              "      <td>2024-03-14</td>\n",
              "      <td>72123.906250</td>\n",
              "      <td>71481.289063</td>\n",
              "      <td>73083.500000</td>\n",
              "      <td>71396.593750</td>\n",
              "    </tr>\n",
              "    <tr>\n",
              "      <th>3460</th>\n",
              "      <td>2024-03-15</td>\n",
              "      <td>71481.289063</td>\n",
              "      <td>73083.500000</td>\n",
              "      <td>71396.593750</td>\n",
              "      <td>69403.773438</td>\n",
              "    </tr>\n",
              "    <tr>\n",
              "      <th>3461</th>\n",
              "      <td>2024-03-16</td>\n",
              "      <td>73083.500000</td>\n",
              "      <td>71396.593750</td>\n",
              "      <td>69403.773438</td>\n",
              "      <td>65315.117188</td>\n",
              "    </tr>\n",
              "    <tr>\n",
              "      <th>3462</th>\n",
              "      <td>2024-03-17</td>\n",
              "      <td>71396.593750</td>\n",
              "      <td>69403.773438</td>\n",
              "      <td>65315.117188</td>\n",
              "      <td>68390.625000</td>\n",
              "    </tr>\n",
              "  </tbody>\n",
              "</table>\n",
              "<p>3463 rows × 5 columns</p>\n",
              "</div>\n",
              "    <div class=\"colab-df-buttons\">\n",
              "\n",
              "  <div class=\"colab-df-container\">\n",
              "    <button class=\"colab-df-convert\" onclick=\"convertToInteractive('df-2e81958d-fe36-4f5a-80ce-31b93b173385')\"\n",
              "            title=\"Convert this dataframe to an interactive table.\"\n",
              "            style=\"display:none;\">\n",
              "\n",
              "  <svg xmlns=\"http://www.w3.org/2000/svg\" height=\"24px\" viewBox=\"0 -960 960 960\">\n",
              "    <path d=\"M120-120v-720h720v720H120Zm60-500h600v-160H180v160Zm220 220h160v-160H400v160Zm0 220h160v-160H400v160ZM180-400h160v-160H180v160Zm440 0h160v-160H620v160ZM180-180h160v-160H180v160Zm440 0h160v-160H620v160Z\"/>\n",
              "  </svg>\n",
              "    </button>\n",
              "\n",
              "  <style>\n",
              "    .colab-df-container {\n",
              "      display:flex;\n",
              "      gap: 12px;\n",
              "    }\n",
              "\n",
              "    .colab-df-convert {\n",
              "      background-color: #E8F0FE;\n",
              "      border: none;\n",
              "      border-radius: 50%;\n",
              "      cursor: pointer;\n",
              "      display: none;\n",
              "      fill: #1967D2;\n",
              "      height: 32px;\n",
              "      padding: 0 0 0 0;\n",
              "      width: 32px;\n",
              "    }\n",
              "\n",
              "    .colab-df-convert:hover {\n",
              "      background-color: #E2EBFA;\n",
              "      box-shadow: 0px 1px 2px rgba(60, 64, 67, 0.3), 0px 1px 3px 1px rgba(60, 64, 67, 0.15);\n",
              "      fill: #174EA6;\n",
              "    }\n",
              "\n",
              "    .colab-df-buttons div {\n",
              "      margin-bottom: 4px;\n",
              "    }\n",
              "\n",
              "    [theme=dark] .colab-df-convert {\n",
              "      background-color: #3B4455;\n",
              "      fill: #D2E3FC;\n",
              "    }\n",
              "\n",
              "    [theme=dark] .colab-df-convert:hover {\n",
              "      background-color: #434B5C;\n",
              "      box-shadow: 0px 1px 3px 1px rgba(0, 0, 0, 0.15);\n",
              "      filter: drop-shadow(0px 1px 2px rgba(0, 0, 0, 0.3));\n",
              "      fill: #FFFFFF;\n",
              "    }\n",
              "  </style>\n",
              "\n",
              "    <script>\n",
              "      const buttonEl =\n",
              "        document.querySelector('#df-2e81958d-fe36-4f5a-80ce-31b93b173385 button.colab-df-convert');\n",
              "      buttonEl.style.display =\n",
              "        google.colab.kernel.accessAllowed ? 'block' : 'none';\n",
              "\n",
              "      async function convertToInteractive(key) {\n",
              "        const element = document.querySelector('#df-2e81958d-fe36-4f5a-80ce-31b93b173385');\n",
              "        const dataTable =\n",
              "          await google.colab.kernel.invokeFunction('convertToInteractive',\n",
              "                                                    [key], {});\n",
              "        if (!dataTable) return;\n",
              "\n",
              "        const docLinkHtml = 'Like what you see? Visit the ' +\n",
              "          '<a target=\"_blank\" href=https://colab.research.google.com/notebooks/data_table.ipynb>data table notebook</a>'\n",
              "          + ' to learn more about interactive tables.';\n",
              "        element.innerHTML = '';\n",
              "        dataTable['output_type'] = 'display_data';\n",
              "        await google.colab.output.renderOutput(dataTable, element);\n",
              "        const docLink = document.createElement('div');\n",
              "        docLink.innerHTML = docLinkHtml;\n",
              "        element.appendChild(docLink);\n",
              "      }\n",
              "    </script>\n",
              "  </div>\n",
              "\n",
              "\n",
              "<div id=\"df-3f30aa0e-d20a-4efc-b40e-7d9522215db4\">\n",
              "  <button class=\"colab-df-quickchart\" onclick=\"quickchart('df-3f30aa0e-d20a-4efc-b40e-7d9522215db4')\"\n",
              "            title=\"Suggest charts\"\n",
              "            style=\"display:none;\">\n",
              "\n",
              "<svg xmlns=\"http://www.w3.org/2000/svg\" height=\"24px\"viewBox=\"0 0 24 24\"\n",
              "     width=\"24px\">\n",
              "    <g>\n",
              "        <path d=\"M19 3H5c-1.1 0-2 .9-2 2v14c0 1.1.9 2 2 2h14c1.1 0 2-.9 2-2V5c0-1.1-.9-2-2-2zM9 17H7v-7h2v7zm4 0h-2V7h2v10zm4 0h-2v-4h2v4z\"/>\n",
              "    </g>\n",
              "</svg>\n",
              "  </button>\n",
              "\n",
              "<style>\n",
              "  .colab-df-quickchart {\n",
              "      --bg-color: #E8F0FE;\n",
              "      --fill-color: #1967D2;\n",
              "      --hover-bg-color: #E2EBFA;\n",
              "      --hover-fill-color: #174EA6;\n",
              "      --disabled-fill-color: #AAA;\n",
              "      --disabled-bg-color: #DDD;\n",
              "  }\n",
              "\n",
              "  [theme=dark] .colab-df-quickchart {\n",
              "      --bg-color: #3B4455;\n",
              "      --fill-color: #D2E3FC;\n",
              "      --hover-bg-color: #434B5C;\n",
              "      --hover-fill-color: #FFFFFF;\n",
              "      --disabled-bg-color: #3B4455;\n",
              "      --disabled-fill-color: #666;\n",
              "  }\n",
              "\n",
              "  .colab-df-quickchart {\n",
              "    background-color: var(--bg-color);\n",
              "    border: none;\n",
              "    border-radius: 50%;\n",
              "    cursor: pointer;\n",
              "    display: none;\n",
              "    fill: var(--fill-color);\n",
              "    height: 32px;\n",
              "    padding: 0;\n",
              "    width: 32px;\n",
              "  }\n",
              "\n",
              "  .colab-df-quickchart:hover {\n",
              "    background-color: var(--hover-bg-color);\n",
              "    box-shadow: 0 1px 2px rgba(60, 64, 67, 0.3), 0 1px 3px 1px rgba(60, 64, 67, 0.15);\n",
              "    fill: var(--button-hover-fill-color);\n",
              "  }\n",
              "\n",
              "  .colab-df-quickchart-complete:disabled,\n",
              "  .colab-df-quickchart-complete:disabled:hover {\n",
              "    background-color: var(--disabled-bg-color);\n",
              "    fill: var(--disabled-fill-color);\n",
              "    box-shadow: none;\n",
              "  }\n",
              "\n",
              "  .colab-df-spinner {\n",
              "    border: 2px solid var(--fill-color);\n",
              "    border-color: transparent;\n",
              "    border-bottom-color: var(--fill-color);\n",
              "    animation:\n",
              "      spin 1s steps(1) infinite;\n",
              "  }\n",
              "\n",
              "  @keyframes spin {\n",
              "    0% {\n",
              "      border-color: transparent;\n",
              "      border-bottom-color: var(--fill-color);\n",
              "      border-left-color: var(--fill-color);\n",
              "    }\n",
              "    20% {\n",
              "      border-color: transparent;\n",
              "      border-left-color: var(--fill-color);\n",
              "      border-top-color: var(--fill-color);\n",
              "    }\n",
              "    30% {\n",
              "      border-color: transparent;\n",
              "      border-left-color: var(--fill-color);\n",
              "      border-top-color: var(--fill-color);\n",
              "      border-right-color: var(--fill-color);\n",
              "    }\n",
              "    40% {\n",
              "      border-color: transparent;\n",
              "      border-right-color: var(--fill-color);\n",
              "      border-top-color: var(--fill-color);\n",
              "    }\n",
              "    60% {\n",
              "      border-color: transparent;\n",
              "      border-right-color: var(--fill-color);\n",
              "    }\n",
              "    80% {\n",
              "      border-color: transparent;\n",
              "      border-right-color: var(--fill-color);\n",
              "      border-bottom-color: var(--fill-color);\n",
              "    }\n",
              "    90% {\n",
              "      border-color: transparent;\n",
              "      border-bottom-color: var(--fill-color);\n",
              "    }\n",
              "  }\n",
              "</style>\n",
              "\n",
              "  <script>\n",
              "    async function quickchart(key) {\n",
              "      const quickchartButtonEl =\n",
              "        document.querySelector('#' + key + ' button');\n",
              "      quickchartButtonEl.disabled = true;  // To prevent multiple clicks.\n",
              "      quickchartButtonEl.classList.add('colab-df-spinner');\n",
              "      try {\n",
              "        const charts = await google.colab.kernel.invokeFunction(\n",
              "            'suggestCharts', [key], {});\n",
              "      } catch (error) {\n",
              "        console.error('Error during call to suggestCharts:', error);\n",
              "      }\n",
              "      quickchartButtonEl.classList.remove('colab-df-spinner');\n",
              "      quickchartButtonEl.classList.add('colab-df-quickchart-complete');\n",
              "    }\n",
              "    (() => {\n",
              "      let quickchartButtonEl =\n",
              "        document.querySelector('#df-3f30aa0e-d20a-4efc-b40e-7d9522215db4 button');\n",
              "      quickchartButtonEl.style.display =\n",
              "        google.colab.kernel.accessAllowed ? 'block' : 'none';\n",
              "    })();\n",
              "  </script>\n",
              "</div>\n",
              "\n",
              "  <div id=\"id_fa613230-f19d-4064-85fd-0b4ef285dd8a\">\n",
              "    <style>\n",
              "      .colab-df-generate {\n",
              "        background-color: #E8F0FE;\n",
              "        border: none;\n",
              "        border-radius: 50%;\n",
              "        cursor: pointer;\n",
              "        display: none;\n",
              "        fill: #1967D2;\n",
              "        height: 32px;\n",
              "        padding: 0 0 0 0;\n",
              "        width: 32px;\n",
              "      }\n",
              "\n",
              "      .colab-df-generate:hover {\n",
              "        background-color: #E2EBFA;\n",
              "        box-shadow: 0px 1px 2px rgba(60, 64, 67, 0.3), 0px 1px 3px 1px rgba(60, 64, 67, 0.15);\n",
              "        fill: #174EA6;\n",
              "      }\n",
              "\n",
              "      [theme=dark] .colab-df-generate {\n",
              "        background-color: #3B4455;\n",
              "        fill: #D2E3FC;\n",
              "      }\n",
              "\n",
              "      [theme=dark] .colab-df-generate:hover {\n",
              "        background-color: #434B5C;\n",
              "        box-shadow: 0px 1px 3px 1px rgba(0, 0, 0, 0.15);\n",
              "        filter: drop-shadow(0px 1px 2px rgba(0, 0, 0, 0.3));\n",
              "        fill: #FFFFFF;\n",
              "      }\n",
              "    </style>\n",
              "    <button class=\"colab-df-generate\" onclick=\"generateWithVariable('windowed_df')\"\n",
              "            title=\"Generate code using this dataframe.\"\n",
              "            style=\"display:none;\">\n",
              "\n",
              "  <svg xmlns=\"http://www.w3.org/2000/svg\" height=\"24px\"viewBox=\"0 0 24 24\"\n",
              "       width=\"24px\">\n",
              "    <path d=\"M7,19H8.4L18.45,9,17,7.55,7,17.6ZM5,21V16.75L18.45,3.32a2,2,0,0,1,2.83,0l1.4,1.43a1.91,1.91,0,0,1,.58,1.4,1.91,1.91,0,0,1-.58,1.4L9.25,21ZM18.45,9,17,7.55Zm-12,3A5.31,5.31,0,0,0,4.9,8.1,5.31,5.31,0,0,0,1,6.5,5.31,5.31,0,0,0,4.9,4.9,5.31,5.31,0,0,0,6.5,1,5.31,5.31,0,0,0,8.1,4.9,5.31,5.31,0,0,0,12,6.5,5.46,5.46,0,0,0,6.5,12Z\"/>\n",
              "  </svg>\n",
              "    </button>\n",
              "    <script>\n",
              "      (() => {\n",
              "      const buttonEl =\n",
              "        document.querySelector('#id_fa613230-f19d-4064-85fd-0b4ef285dd8a button.colab-df-generate');\n",
              "      buttonEl.style.display =\n",
              "        google.colab.kernel.accessAllowed ? 'block' : 'none';\n",
              "\n",
              "      buttonEl.onclick = () => {\n",
              "        google.colab.notebook.generateWithVariable('windowed_df');\n",
              "      }\n",
              "      })();\n",
              "    </script>\n",
              "  </div>\n",
              "\n",
              "    </div>\n",
              "  </div>\n"
            ],
            "application/vnd.google.colaboratory.intrinsic+json": {
              "type": "dataframe",
              "variable_name": "windowed_df",
              "summary": "{\n  \"name\": \"windowed_df\",\n  \"rows\": 3463,\n  \"fields\": [\n    {\n      \"column\": \"Target Date\",\n      \"properties\": {\n        \"dtype\": \"date\",\n        \"min\": \"2014-09-24 00:00:00\",\n        \"max\": \"2024-03-17 00:00:00\",\n        \"num_unique_values\": 3463,\n        \"samples\": [\n          \"2024-01-14 00:00:00\",\n          \"2015-11-08 00:00:00\",\n          \"2024-01-31 00:00:00\"\n        ],\n        \"semantic_type\": \"\",\n        \"description\": \"\"\n      }\n    },\n    {\n      \"column\": \"Target-3\",\n      \"properties\": {\n        \"dtype\": \"number\",\n        \"std\": 16889.387312044953,\n        \"min\": 178.102997,\n        \"max\": 73083.5,\n        \"num_unique_values\": 3460,\n        \"samples\": [\n          673.106018,\n          374.470001,\n          7424.29248\n        ],\n        \"semantic_type\": \"\",\n        \"description\": \"\"\n      }\n    },\n    {\n      \"column\": \"Target-2\",\n      \"properties\": {\n        \"dtype\": \"number\",\n        \"std\": 16912.41801088352,\n        \"min\": 178.102997,\n        \"max\": 73083.5,\n        \"num_unique_values\": 3460,\n        \"samples\": [\n          672.864014,\n          386.481995,\n          7321.988281\n        ],\n        \"semantic_type\": \"\",\n        \"description\": \"\"\n      }\n    },\n    {\n      \"column\": \"Target-1\",\n      \"properties\": {\n        \"dtype\": \"number\",\n        \"std\": 16931.771110675672,\n        \"min\": 178.102997,\n        \"max\": 73083.5,\n        \"num_unique_values\": 3460,\n        \"samples\": [\n          665.684998,\n          373.368011,\n          7320.145508\n        ],\n        \"semantic_type\": \"\",\n        \"description\": \"\"\n      }\n    },\n    {\n      \"column\": \"Target\",\n      \"properties\": {\n        \"dtype\": \"number\",\n        \"std\": 16953.785178047478,\n        \"min\": 178.102997,\n        \"max\": 73083.5,\n        \"num_unique_values\": 3460,\n        \"samples\": [\n          665.012024,\n          380.256989,\n          7252.034668\n        ],\n        \"semantic_type\": \"\",\n        \"description\": \"\"\n      }\n    }\n  ]\n}"
            }
          },
          "metadata": {},
          "execution_count": 6
        }
      ],
      "source": [
        "def df_to_windowed_df(dataframe, first_date_str, last_date_str, n=3):\n",
        "    first_date = str_to_datetime(first_date_str)\n",
        "    last_date  = str_to_datetime(last_date_str)\n",
        "\n",
        "    target_date = first_date\n",
        "\n",
        "    dates = []\n",
        "    X, Y = [], []\n",
        "\n",
        "    last_time = False\n",
        "    while True:\n",
        "        df_subset = dataframe.loc[:target_date].tail(n+1)\n",
        "\n",
        "        if len(df_subset) != n+1:\n",
        "            print(f'Error: Window of size {n} is too large for date {target_date}')\n",
        "            return\n",
        "\n",
        "        values = df_subset['Close'].to_numpy()\n",
        "        x, y = values[:-1], values[-1]\n",
        "\n",
        "        dates.append(target_date)\n",
        "        X.append(x)\n",
        "        Y.append(y)\n",
        "\n",
        "        next_week = dataframe.loc[target_date:target_date+datetime.timedelta(days=7)]\n",
        "        next_datetime_str = str(next_week.head(2).tail(1).index.values[0])\n",
        "        next_date_str = next_datetime_str.split('T')[0]\n",
        "        year_month_day = next_date_str.split('-')\n",
        "        year, month, day = year_month_day\n",
        "        next_date = datetime.datetime(day=int(day), month=int(month), year=int(year))\n",
        "\n",
        "        if last_time:\n",
        "            break\n",
        "\n",
        "        target_date = next_date\n",
        "\n",
        "        if target_date == last_date:\n",
        "            last_time = True\n",
        "\n",
        "    ret_df = pd.DataFrame({})\n",
        "    ret_df['Target Date'] = dates\n",
        "\n",
        "    X = np.array(X)\n",
        "    for i in range(0, n):\n",
        "        X[:, i]\n",
        "        ret_df[f'Target-{n-i}'] = X[:, i]\n",
        "\n",
        "    ret_df['Target'] = Y\n",
        "\n",
        "    return ret_df\n",
        "\n",
        "windowed_df = df_to_windowed_df(df,\n",
        "                                '2014-09-24',\n",
        "                                '2024-03-17',\n",
        "                                n=3)\n",
        "windowed_df"
      ]
    },
    {
      "cell_type": "code",
      "execution_count": null,
      "metadata": {
        "colab": {
          "base_uri": "https://localhost:8080/"
        },
        "id": "3uo1BYJAihh0",
        "outputId": "0cf8aae3-c7c2-4049-b28e-41387455833e"
      },
      "outputs": [
        {
          "output_type": "stream",
          "name": "stdout",
          "text": [
            "(3463,)\n"
          ]
        }
      ],
      "source": [
        "def windowed_df_to_date_X_y(windowed_dataframe):\n",
        "    df_as_np = windowed_dataframe.to_numpy()\n",
        "\n",
        "    dates = df_as_np[:, 0]\n",
        "\n",
        "    middle_matrix = df_as_np[:, 1:-1]\n",
        "    X = middle_matrix.reshape((len(dates), middle_matrix.shape[1], 1))\n",
        "    Y = df_as_np[:, -1]\n",
        "\n",
        "    return dates, X.astype(np.float32), Y.astype(np.float32)\n",
        "\n",
        "dates, X, y = windowed_df_to_date_X_y(windowed_df)\n",
        "\n",
        "dates.shape, X.shape, y.shape\n",
        "print(dates.shape)"
      ]
    },
    {
      "cell_type": "code",
      "execution_count": null,
      "metadata": {
        "id": "Rvtsn_ucihh0"
      },
      "outputs": [],
      "source": [
        "# q_80 = int(len(dates) * .8)\n",
        "# q_90 = int(len(dates) * .9)\n",
        "\n",
        "# dates_train, X_train, y_train = dates[:q_80], X[:q_80], y[:q_80]\n",
        "# dates_test, X_test, y_test = dates[q_80:], X[q_80:], y[q_80:]"
      ]
    },
    {
      "cell_type": "code",
      "execution_count": null,
      "metadata": {
        "id": "Xl1av9Ueihh0"
      },
      "outputs": [],
      "source": [
        "dates_train,dates_test,X_train,X_test,y_train,y_test = train_test_split(dates,X,y,test_size=0.2)"
      ]
    },
    {
      "cell_type": "code",
      "execution_count": null,
      "metadata": {
        "colab": {
          "base_uri": "https://localhost:8080/"
        },
        "id": "EiTWezJjihh0",
        "outputId": "1c50a4ad-5934-4b48-e46d-dd59b752b42c"
      },
      "outputs": [
        {
          "output_type": "stream",
          "name": "stdout",
          "text": [
            "[47945.06    3399.4717  8293.868  ... 51206.69   17196.555   8510.38  ]\n"
          ]
        }
      ],
      "source": [
        "X_train = X_train.reshape(-1, 3)\n",
        "print(y_train)\n",
        "# param_grid = {\n",
        "#     \"n_rows\": [3],\n",
        "#     \"n_columns\": [260],\n",
        "#     \"learning_rate_start\": [1.11, 1.110,1.111,1.112],\n",
        "#     \"learning_rate_end\": [0.7],\n",
        "# }\n",
        "# som = susi.SOMRegressor()\n",
        "# clf = GridSearchCV(som, param_grid,cv=5,n_jobs=-1)\n",
        "# clf.fit(X_train, y_train)\n",
        "# print(clf.best_params_)"
      ]
    },
    {
      "cell_type": "code",
      "execution_count": null,
      "metadata": {
        "id": "Syh0mei8ihh0"
      },
      "outputs": [],
      "source": [
        "# print(clf.best_score_)"
      ]
    },
    {
      "cell_type": "code",
      "execution_count": null,
      "metadata": {
        "colab": {
          "base_uri": "https://localhost:8080/",
          "height": 92
        },
        "id": "SKYSXZOAihh0",
        "outputId": "751e0abe-ac88-44f3-b776-b477b4012905"
      },
      "outputs": [
        {
          "output_type": "execute_result",
          "data": {
            "text/plain": [
              "SOMRegressor(learning_rate_end=0.7, learning_rate_start=1.112, n_columns=260,\n",
              "             n_rows=3)"
            ],
            "text/html": [
              "<style>#sk-container-id-1 {color: black;background-color: white;}#sk-container-id-1 pre{padding: 0;}#sk-container-id-1 div.sk-toggleable {background-color: white;}#sk-container-id-1 label.sk-toggleable__label {cursor: pointer;display: block;width: 100%;margin-bottom: 0;padding: 0.3em;box-sizing: border-box;text-align: center;}#sk-container-id-1 label.sk-toggleable__label-arrow:before {content: \"▸\";float: left;margin-right: 0.25em;color: #696969;}#sk-container-id-1 label.sk-toggleable__label-arrow:hover:before {color: black;}#sk-container-id-1 div.sk-estimator:hover label.sk-toggleable__label-arrow:before {color: black;}#sk-container-id-1 div.sk-toggleable__content {max-height: 0;max-width: 0;overflow: hidden;text-align: left;background-color: #f0f8ff;}#sk-container-id-1 div.sk-toggleable__content pre {margin: 0.2em;color: black;border-radius: 0.25em;background-color: #f0f8ff;}#sk-container-id-1 input.sk-toggleable__control:checked~div.sk-toggleable__content {max-height: 200px;max-width: 100%;overflow: auto;}#sk-container-id-1 input.sk-toggleable__control:checked~label.sk-toggleable__label-arrow:before {content: \"▾\";}#sk-container-id-1 div.sk-estimator input.sk-toggleable__control:checked~label.sk-toggleable__label {background-color: #d4ebff;}#sk-container-id-1 div.sk-label input.sk-toggleable__control:checked~label.sk-toggleable__label {background-color: #d4ebff;}#sk-container-id-1 input.sk-hidden--visually {border: 0;clip: rect(1px 1px 1px 1px);clip: rect(1px, 1px, 1px, 1px);height: 1px;margin: -1px;overflow: hidden;padding: 0;position: absolute;width: 1px;}#sk-container-id-1 div.sk-estimator {font-family: monospace;background-color: #f0f8ff;border: 1px dotted black;border-radius: 0.25em;box-sizing: border-box;margin-bottom: 0.5em;}#sk-container-id-1 div.sk-estimator:hover {background-color: #d4ebff;}#sk-container-id-1 div.sk-parallel-item::after {content: \"\";width: 100%;border-bottom: 1px solid gray;flex-grow: 1;}#sk-container-id-1 div.sk-label:hover label.sk-toggleable__label {background-color: #d4ebff;}#sk-container-id-1 div.sk-serial::before {content: \"\";position: absolute;border-left: 1px solid gray;box-sizing: border-box;top: 0;bottom: 0;left: 50%;z-index: 0;}#sk-container-id-1 div.sk-serial {display: flex;flex-direction: column;align-items: center;background-color: white;padding-right: 0.2em;padding-left: 0.2em;position: relative;}#sk-container-id-1 div.sk-item {position: relative;z-index: 1;}#sk-container-id-1 div.sk-parallel {display: flex;align-items: stretch;justify-content: center;background-color: white;position: relative;}#sk-container-id-1 div.sk-item::before, #sk-container-id-1 div.sk-parallel-item::before {content: \"\";position: absolute;border-left: 1px solid gray;box-sizing: border-box;top: 0;bottom: 0;left: 50%;z-index: -1;}#sk-container-id-1 div.sk-parallel-item {display: flex;flex-direction: column;z-index: 1;position: relative;background-color: white;}#sk-container-id-1 div.sk-parallel-item:first-child::after {align-self: flex-end;width: 50%;}#sk-container-id-1 div.sk-parallel-item:last-child::after {align-self: flex-start;width: 50%;}#sk-container-id-1 div.sk-parallel-item:only-child::after {width: 0;}#sk-container-id-1 div.sk-dashed-wrapped {border: 1px dashed gray;margin: 0 0.4em 0.5em 0.4em;box-sizing: border-box;padding-bottom: 0.4em;background-color: white;}#sk-container-id-1 div.sk-label label {font-family: monospace;font-weight: bold;display: inline-block;line-height: 1.2em;}#sk-container-id-1 div.sk-label-container {text-align: center;}#sk-container-id-1 div.sk-container {/* jupyter's `normalize.less` sets `[hidden] { display: none; }` but bootstrap.min.css set `[hidden] { display: none !important; }` so we also need the `!important` here to be able to override the default hidden behavior on the sphinx rendered scikit-learn.org. See: https://github.com/scikit-learn/scikit-learn/issues/21755 */display: inline-block !important;position: relative;}#sk-container-id-1 div.sk-text-repr-fallback {display: none;}</style><div id=\"sk-container-id-1\" class=\"sk-top-container\"><div class=\"sk-text-repr-fallback\"><pre>SOMRegressor(learning_rate_end=0.7, learning_rate_start=1.112, n_columns=260,\n",
              "             n_rows=3)</pre><b>In a Jupyter environment, please rerun this cell to show the HTML representation or trust the notebook. <br />On GitHub, the HTML representation is unable to render, please try loading this page with nbviewer.org.</b></div><div class=\"sk-container\" hidden><div class=\"sk-item\"><div class=\"sk-estimator sk-toggleable\"><input class=\"sk-toggleable__control sk-hidden--visually\" id=\"sk-estimator-id-1\" type=\"checkbox\" checked><label for=\"sk-estimator-id-1\" class=\"sk-toggleable__label sk-toggleable__label-arrow\">SOMRegressor</label><div class=\"sk-toggleable__content\"><pre>SOMRegressor(learning_rate_end=0.7, learning_rate_start=1.112, n_columns=260,\n",
              "             n_rows=3)</pre></div></div></div></div></div>"
            ]
          },
          "metadata": {},
          "execution_count": 12
        }
      ],
      "source": [
        "som1 = susi.SOMRegressor(\n",
        "    n_rows = 3,\n",
        "    n_columns = 260,\n",
        "    learning_rate_start = 1.112,\n",
        "    learning_rate_end = 0.7\n",
        ")\n",
        "som1.fit(X_train,y_train)"
      ]
    },
    {
      "cell_type": "code",
      "execution_count": null,
      "metadata": {
        "colab": {
          "base_uri": "https://localhost:8080/"
        },
        "id": "UVn4ys1qihh0",
        "outputId": "0aeeeccd-dea6-46c5-ad22-ab71c798e911"
      },
      "outputs": [
        {
          "output_type": "stream",
          "name": "stdout",
          "text": [
            "[ 7175.10280912   512.05107972 25730.82423825 17658.70319354\n",
            " 41933.59995325   670.82095938  7153.76535266 28205.91310931\n",
            "  5770.06745189   411.10717506  7232.36476166   764.31724119\n",
            "  7392.0837738    316.99163363  1162.68575702  1096.53325911\n",
            " 44507.19490451 35683.02569329   257.46342056   355.55044224\n",
            " 52112.0840833  42043.91339548 51671.33500309   943.79863324\n",
            "   704.29513333 41841.77326279  7153.76535266   325.71499342\n",
            "  6102.62246989  7936.31280378 52112.0840833    636.35106965\n",
            "  9922.99687431   774.45316273  3803.43594367  7648.49087271\n",
            " 22599.09929903   257.46342056   645.68280362  9919.56805594\n",
            "   257.46342056  1714.71266683   582.44614218   560.12661386\n",
            "  5927.34844427 41772.06934776 52112.0840833  20755.95489639\n",
            "   645.68280362 45956.62418334 27617.93525375  1437.52300715\n",
            "   393.79727507   299.77548954  1057.88802756 20682.04767896\n",
            "  5967.47683168   295.83790621  9489.24683313  3462.44543142\n",
            "   645.68280362 42388.56172572 11592.25090499  4448.03175648\n",
            "  4032.42823441 39209.42584491  1190.47435255 18481.70088354\n",
            " 14533.95710185  9932.75042726 20755.95489639 52112.0840833\n",
            "   602.24500605   953.84678188 38987.22981463  6304.49189695\n",
            "  9408.10155164 20241.78970826 28205.91310931   636.35106965\n",
            "   645.68280362 52112.0840833  52112.0840833    636.35106965\n",
            " 38926.92636207   636.35106965  7234.05578431 17176.46980839\n",
            "   670.82095938  9932.75042726  1466.96050078 47095.10379646\n",
            "   302.20394358 27914.19399271  6102.62246989 45509.52909018\n",
            "  7170.34038002 18982.04437534 17458.36521398   764.31724119\n",
            "   331.20043462  7392.0837738   9759.3384109  51060.28571574\n",
            "  1121.77439005 27065.07613479  9555.21634681   393.79727507\n",
            "   442.58931887 30330.4751367    393.79727507  7170.34038002\n",
            "  6304.49189695  8300.91858546 11880.88253643 18812.10152375\n",
            "  9231.26371411  7832.49491875  9425.66934942   405.89782446\n",
            "  9438.16060175  1121.77439005 51060.28571574  9518.94709386\n",
            "  7830.43020886 27929.06349259   645.68280362 28119.54819788\n",
            " 29155.48315314 17176.46980839   393.79727507 52112.0840833\n",
            " 11907.97944965   257.46342056 27617.93525375 34919.59049485\n",
            " 47937.08337421 35683.02569329   257.46342056  4593.67495663\n",
            " 51301.70605937 17721.86500729 11003.92898862  6232.13922133\n",
            "   257.46342056  1145.54863293 15765.05128859 47427.3629719\n",
            " 42107.50229405   393.79727507 28205.91310931   764.31724119\n",
            "   355.55044224  2555.33983804   257.46342056  1146.42290136\n",
            "  3878.60126381  5770.06745189  3708.55781787 10404.76633643\n",
            " 30319.72314495  8492.03313884  3502.84018761  4114.73295483\n",
            " 39597.16471822 28041.85172085 21972.22430107   602.24500605\n",
            "   369.44981631   313.27737593 51261.40136033 24398.11669484\n",
            "  9637.98941362 39053.43254171   943.79863324  8292.41855291\n",
            "   327.70416375 48017.71083689 34115.76935819   354.45390578\n",
            " 19084.34366941  7139.58419936 27929.06349259   292.41485174\n",
            "   411.10717506 17347.15087176   442.58931887  3791.79865681\n",
            "  7153.76535266   354.45390578 42043.91339548  4386.73534957\n",
            "  9438.16060175 52112.0840833   7175.10280912 10142.82055167\n",
            "   308.18558866  7234.05578431 11020.64274059 23173.04336316\n",
            "   257.46342056 17721.86500729 23295.73046496   405.89782446\n",
            " 28315.86774261  4788.6629303  28459.89859939 17458.36521398\n",
            " 22869.62100649  9342.47916237  8689.32562366   405.89782446\n",
            " 15279.26054372  7832.49491875 19084.34366941  9932.75042726\n",
            "   299.77548954 39185.69351259 17176.46980839  6386.39500199\n",
            "   405.89782446 11880.88253643  1714.71266683 10142.82055167\n",
            "  5770.06745189 19203.99644172 52168.0843907  10142.82055167\n",
            "   560.12661386  9496.17846597  7175.10280912 29155.48315314\n",
            " 39120.13319608  2555.33983804  7226.69297844 27617.93525375\n",
            " 23675.38916272 41502.88252605 21366.81534729 23173.04336316\n",
            " 46586.62198406   257.46342056   560.12661386   257.46342056\n",
            "  3791.79865681  3545.67628143   582.44614218  6386.39500199\n",
            " 11907.97944965 10705.27553832   304.77112322   582.44614218\n",
            " 16539.75840404  5923.94095992 47427.3629719    411.10717506\n",
            "  6467.40212031 30095.44058097   257.46342056 51301.70605937\n",
            "   257.46342056 28275.91286452  2489.35177847 13939.93505303\n",
            "   355.55044224   308.18558866  9424.1361018  41841.77326279\n",
            "   667.82368894  9417.69450601  7392.0837738  11944.25043981\n",
            "   331.20043462 35683.02569329   257.46342056 12024.23282827\n",
            " 18231.69724322 41514.33692267 40265.85955767 41517.82152733\n",
            "  7648.49087271  7231.78130587 11792.03610352  8292.41855291\n",
            "  8114.900082     643.39873708 46631.52646129 23224.10240142\n",
            " 11020.64274059 41299.01056773 10135.95613831   257.46342056\n",
            " 28420.33227937 41517.82152733  7169.65765598 39898.9421551\n",
            "  1029.04130356 17057.13486145   257.46342056   718.39374731\n",
            " 28315.86774261   369.44981631 52112.0840833  21325.87071734\n",
            " 23224.10240142 28459.89859939   560.12661386   943.79863324\n",
            "   442.58931887 41737.29247978  9922.99687431 27617.93525375\n",
            "  9074.28143817   345.20527675 22560.48625436 15279.26054372\n",
            " 39053.43254171   304.77112322   354.45390578 26186.65921286\n",
            "  3502.84018761  9431.44847858 27920.03783599 16869.2043592\n",
            "  7248.21771085 27800.82306154 28041.85172085  6177.95974327\n",
            "  9417.69450601 23575.37262979 52112.0840833    257.46342056\n",
            "  7153.76535266 41892.83900948   257.46342056 23224.10240142\n",
            "  2603.86208249  7801.66858601  7924.17422686 41669.99085823\n",
            " 14955.08670363  3502.84018761 39898.9421551   7392.0837738\n",
            "  7007.32180801   371.96329388  4593.67495663   299.07411099\n",
            " 28011.13742126 29155.48315314  6840.93792838   331.20043462\n",
            "  8690.23734948 45932.89782308   331.20043462 41301.9021398\n",
            "   354.45390578  5923.94095992  9922.99687431  5921.69665796\n",
            " 18881.56019293   442.58931887   299.07411099   670.82095938\n",
            "  6126.77572174  9932.75042726 19369.2309452  34919.59049485\n",
            "  9922.99687431  4788.6629303   6396.68322747   355.55044224\n",
            " 39597.16471822 10142.82055167  3800.63746871  9417.69450601\n",
            " 16869.2043592   6449.36245455 21972.22430107 41299.01056773\n",
            " 38987.22981463 28604.12661517   843.22511754 24865.04883984\n",
            "  1159.31935327   414.6477619  45932.89782308 46904.5608286\n",
            "   405.89782446  9230.49072942 41517.82152733 44494.30607578\n",
            "   341.29729663 10705.27553832 23295.73046496   375.68719639\n",
            " 46847.47211766  4593.67495663   304.77112322  9431.44847858\n",
            "   257.46342056   645.68280362 11592.25090499  1140.45632909\n",
            "  9394.98390756  7832.49491875  1145.54863293 51671.33500309\n",
            "   257.46342056  5770.06745189 52112.0840833  20515.82210859\n",
            " 45956.62418334 23224.10240142 17347.15087176  5887.33281262\n",
            " 22599.09929903 28880.75903426  9424.1361018  13939.93505303\n",
            "  7175.10280912   512.05107972  8292.41855291 18716.36303655\n",
            " 27920.03783599 11324.6348126   9450.2736134  20755.95489639\n",
            "  7170.34038002  7830.43020886   512.05107972  3791.79865681\n",
            "  8103.17652514  7232.36476166 11837.91902334  7170.34038002\n",
            "   843.22511754 31711.69009848  9922.99687431   560.12661386\n",
            "  7175.10280912 18122.10576888 24865.04883984 42107.50229405\n",
            "   340.9951414  42382.96249024  6126.77572174  9431.44847858\n",
            "  7169.65765598  3878.60126381 11880.88253643  7388.10673464\n",
            " 27929.06349259 52112.0840833  20837.24406814  3791.79865681\n",
            "  3960.92936616 39988.4924016  11792.03610352 22929.91232582\n",
            "  1287.35428204 28315.86774261   341.29729663   393.79727507\n",
            "  5283.48016155   438.53036382 41301.9021398   7232.36476166\n",
            "   386.39248162  2462.97272283   405.89782446  7232.36476166\n",
            "   645.68280362 23675.38916272  9550.15333952  1029.04130356\n",
            "   257.46342056  7248.21771085  8897.59566544  1086.55070701\n",
            "   257.46342056  7830.43020886 18812.10152375  9425.66934942\n",
            "  9932.75042726  5538.29005064 18921.02637986  5821.94920802\n",
            "  1057.88802756 23762.63818012  7823.80404796  7153.76535266\n",
            " 38926.92636207 52168.0843907    442.58931887   257.46342056\n",
            "   257.46342056   257.46342056  5538.29005064 19049.89888073\n",
            " 45509.52909018 41669.99085823 23224.10240142  6386.39500199\n",
            " 46631.52646129  2603.86208249   386.39248162 52168.0843907\n",
            " 42107.50229405  7901.00234483   304.77112322 41892.83900948\n",
            "   309.67779074  9438.16060175 41841.77326279   257.46342056\n",
            "   438.53036382  9408.10155164 28880.75903426 10142.82055167\n",
            "  7175.10280912 21972.22430107   331.20043462 52112.0840833\n",
            "   442.58931887 39257.3264673  52112.0840833   1140.45632909\n",
            "  7642.25888344  3708.55781787 28420.33227937 29895.37662364\n",
            " 29155.48315314 36386.29103007 46321.80847789  8103.17652514\n",
            "  6126.77572174 11837.91902334   414.6477619   7924.17422686\n",
            "   308.18558866  5538.29005064  7139.58419936  2398.48495649\n",
            " 52112.0840833  19290.45680468  6403.238895    7231.78130587\n",
            "   345.20527675   257.46342056  9922.99687431   257.46342056\n",
            " 27942.26968913  8301.29030093 52112.0840833  13190.31699828\n",
            "  1140.45632909  8292.41855291   643.39873708 20837.24406814\n",
            " 27065.07613479   442.58931887  2603.86208249 27920.03783599\n",
            "  2403.06748919 39117.90846004 41299.01056773 39209.42584491\n",
            "   602.24500605   268.80202082 28109.59510444 50451.37859857\n",
            "  2603.86208249   438.53036382  6386.39500199  8292.41855291\n",
            "  3545.67628143 28275.91286452 22214.59054127  9425.66934942\n",
            " 28313.51735726  3800.63746871  8689.32562366   926.85609802\n",
            "  7175.10280912  9417.69450601  6126.77572174  6449.36245455\n",
            "  7801.66858601   304.77112322 51879.04942443  1057.88802756\n",
            "   331.20043462 49028.99207445   710.33583444 46298.14934335\n",
            "  9074.28143817 52112.0840833    331.20043462  7170.34038002\n",
            " 13992.81475166  3277.13327661 21972.22430107 28275.91286452\n",
            " 52112.0840833  39180.06265704   308.18558866  7013.81673492\n",
            " 16869.2043592  49944.59612616 28420.33227937 39898.9421551\n",
            "  5921.69665796  4671.00887551  2555.33983804  3803.43594367\n",
            "  8689.32562366  3800.63746871  3907.49203757   331.20043462\n",
            " 27858.08327276  5538.29005064 41926.55499284 22929.91232582\n",
            " 27920.03783599 28275.91286452  9342.47916237  3800.63746871\n",
            " 16738.21007392 52112.0840833   6463.10730432  7232.36476166\n",
            "  5770.06745189  4350.82361229  7642.25888344   331.20043462\n",
            " 52168.0843907   6248.78364052 39597.16471822  7139.58419936\n",
            "  9425.66934942   257.46342056  4512.95847865 49028.99207445\n",
            " 14608.60592485   257.46342056   764.31724119   257.46342056\n",
            "  6840.93792838  7830.43020886 52112.0840833  51462.15058332\n",
            " 38926.92636207  5538.29005064 18481.70088354 19369.2309452\n",
            "  2555.33983804   257.46342056 38835.2210243  41802.35503358\n",
            "  5770.06745189 41841.77326279 52112.0840833    560.12661386\n",
            " 14940.17711713 22211.84096585  9417.69450601 41642.88923083\n",
            "   257.46342056   257.46342056  7648.49087271 27065.07613479\n",
            "  6232.13922133  7102.21262469   512.05107972 18671.92698174\n",
            "  8689.32562366  6449.36245455 48017.71083689 19661.22811983\n",
            " 41299.01056773   257.46342056  8696.73306094   257.46342056\n",
            "   393.79727507 12024.23282827  5025.45827261   257.46342056\n",
            " 46631.52646129   304.77112322 28315.86774261 45932.89782308\n",
            "   341.29729663]\n"
          ]
        }
      ],
      "source": [
        "X_test = X_test.reshape(-1,3)\n",
        "predicted = som1.predict(X_test)\n",
        "print(predicted)"
      ]
    },
    {
      "cell_type": "code",
      "execution_count": null,
      "metadata": {
        "colab": {
          "base_uri": "https://localhost:8080/"
        },
        "id": "hgZoIqiNihh0",
        "outputId": "5e187e83-b454-4f2a-8faf-c132a6f9d236"
      },
      "outputs": [
        {
          "output_type": "stream",
          "name": "stdout",
          "text": [
            "(693,)\n",
            "R2 score :  0.9796273382929096\n"
          ]
        }
      ],
      "source": [
        "print(y_test.shape)\n",
        "R2 =r2_score(y_test,predicted)\n",
        "print(\"R2 score : \",R2)"
      ]
    },
    {
      "cell_type": "code",
      "execution_count": null,
      "metadata": {
        "colab": {
          "base_uri": "https://localhost:8080/"
        },
        "id": "KIVA5HQ7ihh0",
        "outputId": "589fa746-3961-4d24-f305-5b37fc1dea7e"
      },
      "outputs": [
        {
          "output_type": "stream",
          "name": "stdout",
          "text": [
            "Adjusted R2 : 0.9794491517473666\n"
          ]
        }
      ],
      "source": [
        "aR2 = 1 - ((1-R2)*(693-1)/(693-1-6))\n",
        "print(\"Adjusted R2 :\",aR2)"
      ]
    },
    {
      "cell_type": "code",
      "source": [
        "MAE = mean_absolute_error(y_test,predicted)\n",
        "print(\"MAE : \",MAE)"
      ],
      "metadata": {
        "colab": {
          "base_uri": "https://localhost:8080/"
        },
        "id": "4Zq1qNPmRB24",
        "outputId": "a3d06eea-39ee-4101-a845-61ab84cb5963"
      },
      "execution_count": null,
      "outputs": [
        {
          "output_type": "stream",
          "name": "stdout",
          "text": [
            "MAE :  965.0177566895885\n"
          ]
        }
      ]
    },
    {
      "cell_type": "code",
      "source": [
        "MSE = mean_squared_error(y_test,predicted)\n",
        "print(\"MSE : \",MSE)"
      ],
      "metadata": {
        "colab": {
          "base_uri": "https://localhost:8080/"
        },
        "id": "IpUk-qclRHIr",
        "outputId": "a0eead9d-a7fd-451c-d7b7-3dd4b706d9b8"
      },
      "execution_count": null,
      "outputs": [
        {
          "output_type": "stream",
          "name": "stdout",
          "text": [
            "MSE :  6133216.033849531\n"
          ]
        }
      ]
    },
    {
      "cell_type": "code",
      "source": [
        "print(\"RMSE :\",np.sqrt(MSE))"
      ],
      "metadata": {
        "colab": {
          "base_uri": "https://localhost:8080/"
        },
        "id": "03X-9edYRLkh",
        "outputId": "09d50981-c622-4220-f441-50fb539a91f0"
      },
      "execution_count": null,
      "outputs": [
        {
          "output_type": "stream",
          "name": "stdout",
          "text": [
            "RMSE : 2476.5330673846315\n"
          ]
        }
      ]
    },
    {
      "cell_type": "code",
      "source": [
        "from sklearn.preprocessing import MinMaxScaler\n",
        "scaler = MinMaxScaler()\n",
        "scaler.fit(y_train.reshape(-1,1))\n",
        "\n",
        "test_predict = scaler.inverse_transform(predicted.reshape(-1,1))\n",
        "original_ytest = scaler.inverse_transform(y_test.reshape(-1,1))"
      ],
      "metadata": {
        "id": "h0XgCGcmtD_d"
      },
      "execution_count": null,
      "outputs": []
    },
    {
      "cell_type": "code",
      "source": [
        "n=len(test_predict)\n",
        "dates_test1= dates_test\n",
        "for i in range(n):\n",
        "  test_predict[i]=float(test_predict[i][0])\n",
        "  original_ytest[i]=float(original_ytest[i][0])\n",
        "d=dict()\n",
        "d1=dict()\n",
        "for i in range(n):\n",
        "  d[dates_test[i]]=test_predict[i]\n",
        "  d1[dates_test[i]]=original_ytest[i]\n",
        "dates_test.sort()\n",
        "test_predict1=list()\n",
        "for i in range(n):\n",
        "  test_predict1.append(d[dates_test[i]])\n",
        "original_ytest1=list()\n",
        "for i in range(n):\n",
        "  original_ytest1.append(d1[dates_test[i]])"
      ],
      "metadata": {
        "id": "AreH7XcluZHy"
      },
      "execution_count": null,
      "outputs": []
    },
    {
      "cell_type": "code",
      "source": [
        "plt.plot(dates_test,test_predict1,color='mediumspringgreen')\n",
        "plt.plot(dates_test,original_ytest1,color='darkslategray')\n",
        "plt.legend(['Testing Predictions', 'Testing Observations'])\n",
        "# print(X_test.getIndexOf())\n",
        "# print(Y_test)"
      ],
      "metadata": {
        "colab": {
          "base_uri": "https://localhost:8080/",
          "height": 463
        },
        "id": "t2HRAUOLnuYN",
        "outputId": "2f01be2e-4a8c-434c-cd45-95157d93761a"
      },
      "execution_count": null,
      "outputs": [
        {
          "output_type": "execute_result",
          "data": {
            "text/plain": [
              "<matplotlib.legend.Legend at 0x7da264b63d60>"
            ]
          },
          "metadata": {},
          "execution_count": 34
        },
        {
          "output_type": "display_data",
          "data": {
            "text/plain": [
              "<Figure size 640x480 with 1 Axes>"
            ],
            "image/png": "[encoded data removed]"
          },
          "metadata": {}
        }
      ]
    },
    {
      "cell_type": "code",
      "source": [],
      "metadata": {
        "id": "q25Z06pJoCxG"
      },
      "execution_count": null,
      "outputs": []
    }
  ],
  "metadata": {
    "kernelspec": {
      "display_name": "Python 3",
      "language": "python",
      "name": "python3"
    },
    "language_info": {
      "codemirror_mode": {
        "name": "ipython",
        "version": 3
      },
      "file_extension": ".py",
      "mimetype": "text/x-python",
      "name": "python",
      "nbconvert_exporter": "python",
      "pygments_lexer": "ipython3",
      "version": "3.9.6"
    },
    "colab": {
      "provenance": []
    }
  },
  "nbformat": 4,
  "nbformat_minor": 0
}